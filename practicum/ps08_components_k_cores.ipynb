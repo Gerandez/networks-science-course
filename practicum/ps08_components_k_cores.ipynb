{
 "cells": [
  {
   "cell_type": "markdown",
   "metadata": {},
   "source": [
    "# Practice Session 08: Connected components and k-core decomposition"
   ]
  },
  {
   "cell_type": "markdown",
   "metadata": {},
   "source": [
    "In this session we will use [NetworkX](https://networkx.github.io/) to compute the number of connected components and the size of the largest connected component on a graph. We will use the [Star Wars graph](https://github.com/evelinag/StarWars-social-network/tree/master/networks).\n",
    "\n",
    "The dataset is contained in this input file that you will find in our [data](https://github.com/chatox/networks-science-course/tree/master/practicum/data) directory:\n",
    "* ``starwars.graphml``: co-occurence of characters in scenes in the Star Wars saga in [GraphML](http://graphml.graphdrawing.org/) format.\n",
    "\n",
    "<font size=\"-1\" color=\"gray\">(Remove this cell when delivering.)</font>"
   ]
  },
  {
   "cell_type": "markdown",
   "metadata": {},
   "source": [
    "# 1. The Star Wars graph"
   ]
  },
  {
   "cell_type": "markdown",
   "metadata": {},
   "source": [
    "The following code just loads the *Star Wars* graph into variable *g*. Leave as-is.\n",
    "\n",
    "<font size=\"-1\" color=\"gray\">(Remove this cell when delivering.)</font>"
   ]
  },
  {
   "cell_type": "code",
   "execution_count": null,
   "metadata": {},
   "outputs": [],
   "source": [
    "import io\n",
    "import networkx as nx\n",
    "import matplotlib.pyplot as plt\n",
    "import random\n",
    "import numpy as np\n",
    "import statistics"
   ]
  },
  {
   "cell_type": "code",
   "execution_count": null,
   "metadata": {},
   "outputs": [],
   "source": [
    "INPUT_GRAPH_FILENAME = \"starwars.graphml\""
   ]
  },
  {
   "cell_type": "code",
   "execution_count": null,
   "metadata": {},
   "outputs": [],
   "source": [
    "# LEAVE AS-IS\n",
    "\n",
    "# Read the graph in GraphML format\n",
    "g_in = nx.read_graphml(INPUT_GRAPH_FILENAME)\n",
    "\n",
    "# Re-label the nodes so they use the 'name' as label\n",
    "g_relabeled = nx.relabel.relabel_nodes(g_in, dict(g_in.nodes(data='name')))\n",
    "\n",
    "# Convert the graph to undirected\n",
    "g = g_relabeled.to_undirected()"
   ]
  },
  {
   "cell_type": "code",
   "execution_count": null,
   "metadata": {},
   "outputs": [],
   "source": [
    "# LEAVE AS-IS (OR MODIFY IF YOU WANT)\n",
    "\n",
    "def plot_graph(g):\n",
    "\n",
    "    # Create a plot of 20x14\n",
    "    plt.figure(figsize=(20,14))\n",
    "\n",
    "    # Layout the nodes using a spring model\n",
    "    nx.draw_spring(g, with_labels=True, node_size=1, bbox=dict(facecolor=\"yellow\", edgecolor='black', boxstyle='round,pad=0.1'))\n",
    "\n",
    "    # Display\n",
    "    plt.show()\n",
    "    \n",
    "plot_graph(g)"
   ]
  },
  {
   "cell_type": "markdown",
   "metadata": {},
   "source": [
    "<font size=\"+1\" color=\"red\">Replace this cell with your answer to the following: is this a connected graph? Why or why not?</font>"
   ]
  },
  {
   "cell_type": "markdown",
   "metadata": {},
   "source": [
    "Next, compute the maximum, average, standard deviation, and mode of the degree of the nodes.\n",
    "\n",
    "You can use functions in the [numpy](https://numpy.org/) and [statistics](https://docs.python.org/3/library/statistics.html) modules for this.\n",
    "\n",
    "<font size=\"-1\" color=\"gray\">(Remove this cell when delivering.)</font>"
   ]
  },
  {
   "cell_type": "markdown",
   "metadata": {},
   "source": [
    "<font size=\"+1\" color=\"red\">Replace this cell with code to compute the average and standard deviation of the degree of the nodes.</font>"
   ]
  },
  {
   "cell_type": "markdown",
   "metadata": {},
   "source": [
    "<font size=\"+1\" color=\"red\">Replace this cell with your answer to the following: is this a scale-free network? Why or why not?</font>"
   ]
  },
  {
   "cell_type": "markdown",
   "metadata": {},
   "source": [
    "# 2. Remove a fraction of edges"
   ]
  },
  {
   "cell_type": "markdown",
   "metadata": {},
   "source": [
    "The following function, which you should leave as-is, returns a new graph which is a copy of *g* in which a fraction *p* of edges have been removed.\n",
    "\n",
    "<font size=\"-1\" color=\"gray\">(Remove this cell when delivering.)</font>"
   ]
  },
  {
   "cell_type": "code",
   "execution_count": null,
   "metadata": {},
   "outputs": [],
   "source": [
    "# LEAVE AS-IS\n",
    "\n",
    "def remove_edges_uniformly_at_random(g_in, p):\n",
    "    # Check input is within bounds\n",
    "    if p < 0.0 or p > 1.0:\n",
    "        raise ValueError\n",
    "    \n",
    "    # Create a copy of the input graph\n",
    "    g_out = g_in.copy()\n",
    "    \n",
    "    # Decide how many edges should be in the output graph\n",
    "    target_num_edges = int((1.0-p) * g_in.number_of_edges())\n",
    "\n",
    "    # While there are more edges than desired\n",
    "    while g_out.number_of_edges() > target_num_edges:\n",
    "        \n",
    "        # Remove one random edge\n",
    "        edge = random.choice(list(g_out.edges()))\n",
    "        \n",
    "        if g_out.has_edge(edge[0], edge[1]):\n",
    "            g_out.remove_edge(edge[0], edge[1])\n",
    "    \n",
    "    # Return the resulting graph\n",
    "    return g_out"
   ]
  },
  {
   "cell_type": "markdown",
   "metadata": {},
   "source": [
    "Use `remove_edges_uniformly_at_random(g, p)` to create three graphs named *g10*, *g50*, and *g90* that should contain 10%, 50%, and 90% of the edges in the original graph. Then, plot those three graphs.\n",
    "\n",
    "<font size=\"-1\" color=\"gray\">(Remove this cell when delivering.)</font>"
   ]
  },
  {
   "cell_type": "markdown",
   "metadata": {},
   "source": [
    "<font size=\"+1\" color=\"red\">Replace this cell with code to create g10, g50, g90 as described above, and to plot these three graphs. Use three different cells for the plots.</font>"
   ]
  },
  {
   "cell_type": "markdown",
   "metadata": {},
   "source": [
    "<font size=\"+1\" color=\"red\">Replace this cell with a brief commentary of what you observe visually in these three graphs with respect to the number of connected components, the number of singletons, and the size of the largest connected components.</font>"
   ]
  },
  {
   "cell_type": "markdown",
   "metadata": {},
   "source": [
    "The following function, `remove_edges_by_betweenness(g, p)`, which you should leave as-is, removes a fraction *p* of the edges with the highest betweenness.\n",
    "\n",
    "<font size=\"-1\" color=\"gray\">(Remove this cell when delivering.)</font>"
   ]
  },
  {
   "cell_type": "code",
   "execution_count": null,
   "metadata": {},
   "outputs": [],
   "source": [
    "# LEAVE AS-IS\n",
    "\n",
    "def remove_edges_by_betweenness(g_in, p):\n",
    "    # Check input is within bounds\n",
    "    if p < 0.0 or p > 1.0:\n",
    "        raise ValueError\n",
    "        \n",
    "    # Create a copy of the input graph\n",
    "    g_out = g_in.copy()\n",
    "    \n",
    "    # Compute edge betweenness\n",
    "    edge_betweenness = nx.algorithms.centrality.edge_betweenness(g_out)\n",
    "    edges_by_betweenness = sorted(edge_betweenness.items(), key=lambda x:x[1], reverse=True)\n",
    "    \n",
    "    # Decide how many edges should be in the output graph\n",
    "    target_num_edges = int((1.0-p) * g_in.number_of_edges())\n",
    "\n",
    "    # While there are more edges than desired\n",
    "    while g_out.number_of_edges() > target_num_edges:\n",
    "        \n",
    "        to_remove = edges_by_betweenness.pop(0)\n",
    "        edge_to_remove = to_remove[0]\n",
    "                \n",
    "        g_out.remove_edge(edge_to_remove[0], edge_to_remove[1])\n",
    "    \n",
    "    # Return the resulting graph\n",
    "    return g_out"
   ]
  },
  {
   "cell_type": "markdown",
   "metadata": {},
   "source": [
    "Next, we use this function to remove the top 50% of the edges by betweenness.\n",
    "\n",
    "<font size=\"-1\" color=\"gray\">(Remove this cell when delivering.)</font>"
   ]
  },
  {
   "cell_type": "code",
   "execution_count": null,
   "metadata": {},
   "outputs": [],
   "source": [
    "# LEAVE AS-IS\n",
    "\n",
    "g50b = remove_edges_by_betweenness(g, 0.50)\n",
    "plot_graph(g50b)"
   ]
  },
  {
   "cell_type": "markdown",
   "metadata": {},
   "source": [
    "<font size=\"+1\" color=\"red\">Replace this cell with a brief commentary of what you observe visually in this graph where the top 50% of edges by betweenness was removed, in comparison with the graph in which 50% of the edges were removed uniformly at random. Explain why do you think this happens.</font>"
   ]
  },
  {
   "cell_type": "markdown",
   "metadata": {},
   "source": [
    "# 3. Number of connected components"
   ]
  },
  {
   "cell_type": "markdown",
   "metadata": {},
   "source": [
    "Next, we will write some code to count the number of connected components.\n",
    "\n",
    "This code will be structured around two functions: `assign_component` and `assign_component_recursive`.\n",
    "\n",
    "The function `assign_component(g)` takes as input a graph *g*, and returns a dictionary that maps every node in *g* to a positive integer indicating its connected component number. The `assign_component` function should do the following:\n",
    "\n",
    "1. Create an empty dictionary `node2componentid`\n",
    "1. Start with `componentid = 1`\n",
    "1. Iterate through all the nodes in the graph: `for node in g.nodes()`\n",
    "1. For each `node` that is not in the `node2componentid` dictionary (i.e., `if node not in node2componentid`), call `assign_component_recursive`, incrementing *componentid* by 1 in each call\n",
    "1. Return the `node2componentid` dictionary.\n",
    "\n",
    "The function `assign_component_recursive(g, node2componentid, starting_node, componentid)` takes the following arguments:\n",
    "\n",
    "1. A graph *g*\n",
    "1. A dictionary *node2componentid*\n",
    "1. A starting node *starting_node*\n",
    "1. A number *componentid*\n",
    "\n",
    "The function should do the following:\n",
    "\n",
    "1. Set `node2componentid[starting_node] = componentid`.\n",
    "1. For each neighbor in `g.neighbors(starting_node)`, if that neighbor is not in the `node2componentid` dictionary, call the function `assign_component_recursive(g, node2componentid, neighbor, componentid)`. \n",
    "\n",
    "<font size=\"-1\" color=\"gray\">(Remove this cell when delivering.)</font>"
   ]
  },
  {
   "cell_type": "markdown",
   "metadata": {},
   "source": [
    "<font size=\"+1\" color=\"red\">Replace this cell with your code for assign_component_recursive.</font>"
   ]
  },
  {
   "cell_type": "markdown",
   "metadata": {},
   "source": [
    "<font size=\"+1\" color=\"red\">Replace this cell with your code for assign_component.</font>"
   ]
  },
  {
   "cell_type": "markdown",
   "metadata": {},
   "source": [
    "The code below, which you should leave as-is, returns the number of connected components. \n",
    "\n",
    "<font size=\"-1\" color=\"gray\">(Remove this cell when delivering.)</font>"
   ]
  },
  {
   "cell_type": "code",
   "execution_count": null,
   "metadata": {},
   "outputs": [],
   "source": [
    "# LEAVE AS-IS\n",
    "\n",
    "def count_connected_components(g):\n",
    "    # Call the function to assign each node to a connected component\n",
    "    node2componentid = assign_component(g)\n",
    "    \n",
    "    # Count the number of distinct values in this assignment\n",
    "    return len(set(node2componentid.values()))"
   ]
  },
  {
   "cell_type": "markdown",
   "metadata": {},
   "source": [
    "The following code, which you should leave as-is, computes how many connected components are in graphs in which 0%, 2%, 4%, ..., 98% of the edges are removed. \n",
    "\n",
    "<font size=\"-1\" color=\"gray\">(Remove this cell when delivering.)</font>"
   ]
  },
  {
   "cell_type": "code",
   "execution_count": null,
   "metadata": {},
   "outputs": [],
   "source": [
    "# LEAVE AS-IS\n",
    "\n",
    "def generate_graphs_by_removing_edges(graph, method):\n",
    "    ncomponents_after_reducing = {}\n",
    "    for p in np.arange(0.0, 1.02, 0.02):\n",
    "        print(\"- {:.0f}% of the nodes\".format(p*100))\n",
    "        reduced_graph = method(graph, p)\n",
    "        ncomponents_after_reducing[p] = count_connected_components(reduced_graph)\n",
    "    return ncomponents_after_reducing\n",
    "\n",
    "print(\"Generating graphs by removing edges uniformly at random\")\n",
    "components_removing_uniformly_at_random = generate_graphs_by_removing_edges(g, remove_edges_uniformly_at_random)\n",
    "\n",
    "print(\"Generating graphs by removing edges by betweenness\")\n",
    "components_removing_by_betweenness = generate_graphs_by_removing_edges(g, remove_edges_by_betweenness)"
   ]
  },
  {
   "cell_type": "markdown",
   "metadata": {},
   "source": [
    "Create a plot in which in the x axis is the fraction of removed edges, and in the y axis the number of connected components. **Include both lines (uniformly at random and betweenness) in the same graph, include a legend, and remember to labels both axes.** \n",
    "\n",
    "A basic scatter plot from a dictionary *d* is obtained as follows.\n",
    "\n",
    "```python\n",
    "x_vals = sorted(d.keys())\n",
    "y_vals = [d[x] for x in x_vals]\n",
    "plt.plot(x_vals, y_vals, ...)\n",
    "```\n",
    "\n",
    "<font size=\"-1\" color=\"gray\">(Remove this cell when delivering.)</font>"
   ]
  },
  {
   "cell_type": "markdown",
   "metadata": {},
   "source": [
    "<font size=\"+1\" color=\"red\">Replace this cell with code to create the described graph.</font>"
   ]
  },
  {
   "cell_type": "markdown",
   "metadata": {},
   "source": [
    "<font size=\"+1\" color=\"red\">Replace this cell with a brief commentary with what you observe on this graph. Do you see a linear trend, or something else?</font>"
   ]
  },
  {
   "cell_type": "markdown",
   "metadata": {},
   "source": [
    "# 4. Largest connected component"
   ]
  },
  {
   "cell_type": "markdown",
   "metadata": {},
   "source": [
    "Write a function `size_largest_connected_component` to compute the size of the largest connected component on a graph. Basically you need to call `assign_component` and then iterate through the nodes, counting how many times you see each *componentid*, and returning the maximum of this.\n",
    "\n",
    "To obtain the maximum value on a dictionary, e.g., *component_sizes*, you can use `np.max(list(component_sizes.values()))`\n",
    "\n",
    "<font size=\"-1\" color=\"gray\">(Remove this cell when delivering.)</font>"
   ]
  },
  {
   "cell_type": "markdown",
   "metadata": {},
   "source": [
    "<font size=\"+1\" color=\"red\">Replace this cell with code for \"size_largest_connected_component\".</font>"
   ]
  },
  {
   "cell_type": "markdown",
   "metadata": {},
   "source": [
    "Next, use the `size_largest_connected_component` function to obtain data to create a plot. \n",
    "\n",
    "The data you should obtain will be in two dictionaries:\n",
    "\n",
    "* `largest_wcc_removing_uniformly_at_random[p]` should contain the size of the largest connected component obtained when removing a fraction p of edges uniformly at random\n",
    "* `largest_wcc_removing_uniformly_at_random[p]` should contain the size of the largest connected component obtained when removing a fraction p of edges by betweenness\n",
    "\n",
    "<font size=\"-1\" color=\"gray\">(Remove this cell when delivering.)</font>"
   ]
  },
  {
   "cell_type": "markdown",
   "metadata": {},
   "source": [
    "<font size=\"+1\" color=\"red\">Replace this cell with code to generate the requested graph.</font>"
   ]
  },
  {
   "cell_type": "markdown",
   "metadata": {},
   "source": [
    "Next, create a plot. In this plot, in the x axis there should be the fraction of removed nodes and in the y axis the size of the largest connected component as a fraction of the total number of nodes. **Both axis should go from 0.0 to 1.0**; remember to include both series, to include a legend, and to label the axes.\n",
    "\n",
    "<font size=\"-1\" color=\"gray\">(Remove this cell when delivering.)</font>"
   ]
  },
  {
   "cell_type": "markdown",
   "metadata": {},
   "source": [
    "<font size=\"+1\" color=\"red\">Replace this cell with code to generate the requested graph.</font>"
   ]
  },
  {
   "cell_type": "markdown",
   "metadata": {},
   "source": [
    "<font size=\"+1\" color=\"red\">Replace this cell with a brief commentary indicating what you see in this plot, and answering the following questions: (1) approximately what percentage of edges do you need to remove at random to make the largest connected component shrink to 90% of the nodes in the graph? (2) approximately what percentage of top edges by betweenness do you need to remove at random to make the largest connected component shrink to 90% of the nodes in the graph?</font>"
   ]
  },
  {
   "cell_type": "markdown",
   "metadata": {},
   "source": [
    "# 5. K-core decomposition"
   ]
  },
  {
   "cell_type": "markdown",
   "metadata": {},
   "source": [
    "Now we will perform a k-core decomposition, using the following auxiliary functions, which you can leave as-is.\n",
    "\n",
    "<font size=\"-1\" color=\"gray\">(Remove this cell when delivering.)</font>"
   ]
  },
  {
   "cell_type": "code",
   "execution_count": null,
   "metadata": {},
   "outputs": [],
   "source": [
    "# LEAVE AS-IS\n",
    "\n",
    "def get_max_degree(g):\n",
    "    degree_sequence = [x[1] for x in g.degree()]\n",
    "    return(max(degree_sequence))\n",
    "\n",
    "\n",
    "def nodes_with_degree_less_or_equal_than(g, degree):\n",
    "    nodes = []\n",
    "    for node in g.nodes():\n",
    "        if g.degree(node) <= degree:\n",
    "            nodes.append(node)\n",
    "    return nodes"
   ]
  },
  {
   "cell_type": "markdown",
   "metadata": {},
   "source": [
    "Complete the code for function `kcore_decomposition(g)`; to use this function, you do `node_to_kcore = kcore_decomposition(g)`.\n",
    "\n",
    "```python\n",
    "def kcore_decomposition(graph):\n",
    "    g = graph.copy()\n",
    "    max_degree = get_max_degree(g)\n",
    "\n",
    "    node_to_level = {}\n",
    "    for level in range(1, max_degree + 1):\n",
    "\n",
    "        while True:\n",
    "            # Obtain the list of nodes with degree <= level\n",
    "            nodes_in_level = nodes_with_degree_less_or_equal_than(g, level)\n",
    "\n",
    "            # Check if this list is empty\n",
    "            if len(nodes_in_level) == 0:\n",
    "                # TO-DO: implement (one line)\n",
    "\n",
    "            # If the list is not empty, assign the nodes to the\n",
    "            # corresponding level and remove the node\n",
    "            for node in nodes_in_level:\n",
    "                # TO-DO: implement this (two lines)\n",
    "\n",
    "    return(node_to_level)\n",
    "```\n",
    "\n",
    "<font size=\"-1\" color=\"gray\">(Remove this cell when delivering.)</font>"
   ]
  },
  {
   "cell_type": "markdown",
   "metadata": {},
   "source": [
    "<font size=\"+1\" color=\"red\">Replace this cell with your code for \"kcore_decomposition\". Please remember to include enough comments to explain what your code is doing.</font>"
   ]
  },
  {
   "cell_type": "markdown",
   "metadata": {},
   "source": [
    "Test your code. The following should print:\n",
    "\n",
    "```python\n",
    "K-core of JANSON: 1\n",
    "K-core of RED TEN: 2\n",
    "K-core of LUKE: 7\n",
    "K-core of YODA: 8\n",
    "```\n",
    "\n",
    "<font size=\"-1\" color=\"gray\">(Remove this cell when delivering.)</font>"
   ]
  },
  {
   "cell_type": "code",
   "execution_count": null,
   "metadata": {},
   "outputs": [],
   "source": [
    "# LEAVE AS-IS\n",
    "\n",
    "node_to_kcore = kcore_decomposition(g)\n",
    "\n",
    "for character in [\"JANSON\", \"RED TEN\", \"LUKE\", \"YODA\"]:\n",
    "    print(\"K-core of {:s}: {:d}\".format(character, node_to_kcore[character]))"
   ]
  },
  {
   "cell_type": "markdown",
   "metadata": {},
   "source": [
    "<font size=\"+1\" color=\"red\">The following code, which you should leave as-is, displays the graph annotated with the k-core number of each node.</font>"
   ]
  },
  {
   "cell_type": "code",
   "execution_count": null,
   "metadata": {},
   "outputs": [],
   "source": [
    "# LEAVE AS-IS\n",
    "\n",
    "# Compute k-core decomposition\n",
    "node_to_kcore = kcore_decomposition(g)\n",
    "\n",
    "# Rename nodes so they include the k-core\n",
    "node_to_kcore_texts = dict([(name, str(node_to_kcore[name]) + \":\" + name) for name in g.nodes()])\n",
    "h = nx.relabel_nodes(g, node_to_kcore_texts)\n",
    "\n",
    "# Draw the graph\n",
    "plt.figure(figsize=(20,20))\n",
    "nx.draw_spring(h, with_labels=True, node_size=1, bbox=dict(facecolor=\"yellow\", edgecolor='black', boxstyle='round,pad=0.1'))\n",
    "plt.show()"
   ]
  },
  {
   "cell_type": "markdown",
   "metadata": {},
   "source": [
    "<font size=\"+1\" color=\"red\">Replace this cell with a brief commentary on the graph you see, including which kinds of characters you find at different k-core levels.</font>"
   ]
  },
  {
   "cell_type": "markdown",
   "metadata": {},
   "source": [
    "# Deliver, your code you must (individually)\n",
    "\n",
    "A .zip file containing:\n",
    "\n",
    "* This notebook.\n",
    "\n",
    "\n",
    "## Available, extra points are\n",
    "\n",
    "For extra points and extra learning (+2, so your maximum grade can be a 12 in this assignment), note that in our graphs for the number of connected components and size of largest connected component, the line is not smooth. This is because there are random variations as the removal of edges is random every time. To fix this, you will need to repeat each experiment, e.g., 100 times, and plot the average line. For extra points, replace the graphs of number of connected components and size of largest connected component with an average of multiple experimental runs.\n",
    "\n",
    "**Note:** if for extra points you go, ``<font size=\"+2\" color=\"blue\">Additional results: multiple experiments per graph</font>`` at the top of your notebook, you must add.\n",
    "\n",
    "<font size=\"-1\" color=\"gray\">(This cell, when delivering, remove.)</font>"
   ]
  },
  {
   "cell_type": "markdown",
   "metadata": {},
   "source": [
    "<font size=\"+2\" color=\"#003300\">I hereby declare that, except for the code provided by the course instructors, all of my code, report, and figures were produced by myself.</font>"
   ]
  }
 ],
 "metadata": {
  "kernelspec": {
   "display_name": "Python 3",
   "language": "python",
   "name": "python3"
  },
  "language_info": {
   "codemirror_mode": {
    "name": "ipython",
    "version": 3
   },
   "file_extension": ".py",
   "mimetype": "text/x-python",
   "name": "python",
   "nbconvert_exporter": "python",
   "pygments_lexer": "ipython3",
   "version": "3.8.10"
  }
 },
 "nbformat": 4,
 "nbformat_minor": 2
}
