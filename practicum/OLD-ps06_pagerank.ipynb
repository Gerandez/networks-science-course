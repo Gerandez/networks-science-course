{
 "cells": [
  {
   "cell_type": "markdown",
   "metadata": {},
   "source": [
    "# Practice Session 06: PageRank"
   ]
  },
  {
   "cell_type": "markdown",
   "metadata": {},
   "source": [
    "We will compute PageRank on a graph that represents the web of UK around 2007. Each node is a host, and there is a link between two hosts if there is a web page in one of them pointing to a web page in the other one. This network is weighted: the weight is the number of pages that point from one host to the other one.\n",
    "\n",
    "The collection we will use, [WEBSPAM-UK2007](http://chato.cl/webspam/datasets/uk2007/), has been used in multiple studies on the effect of web spam. Feel free to decompress these files to inspect them, **but your code must read only these files in compressed form**:\n",
    "\n",
    "* ``webspam_uk2007-nodes.csv.gz`` contains (``nodeid``, ``hostname``, ``label``) records\n",
    "* ``webspam_uk2007-edges.csv.gz`` contains (``source``, ``destination``, ``weight``) records\n",
    "\n",
    "Your task is to compute PageRank twice: first considering all the links, and then ignoring links from or to a known spam host.\n",
    "\n",
    "<font size=\"-1\" color=\"gray\">(Remove this cell when delivering.)</font>"
   ]
  },
  {
   "cell_type": "markdown",
   "metadata": {},
   "source": [
    "# 0. Code snippets you may need\n",
    "\n",
    "## 0.1. Read a CSV file with a header\n",
    "\n",
    "Suppose ``FILENAME`` points to a file with the following contents:\n",
    "\n",
    "```\n",
    "a,b,c,d\n",
    "1,2,3,4\n",
    "5,6,7,8\n",
    "```\n",
    "\n",
    "The following code:\n",
    "\n",
    "```python\n",
    "with gzip.open(FILENAME, \"rt\", encoding=\"utf-8\") as input_file:\n",
    "    reader = csv.DictReader(input_file, delimiter=',', quotechar='\"')\n",
    "    for record in reader:\n",
    "        print(record[\"b\"])\n",
    "```\n",
    "\n",
    "Prints:\n",
    "\n",
    "```\n",
    "2\n",
    "6\n",
    "```\n",
    "\n",
    "## 0.2. Sort a list of scores\n",
    "\n",
    "You can use the `enumerate()` function which converts a list `[a, b, c]` into `[(0,a), (1,b), (2,c)]` and then `sort()` as follows. Suppose ``score`` contains ``[0.2, 0.7, 0.4]``:\n",
    "\n",
    "```python\n",
    "hosts_by_score = sorted(enumerate(score), key=lambda x: x[1], reverse=True)\n",
    "```\n",
    "\n",
    "Will return the list `[(1,0.7), (2,0.4), (0,0.2)]`\n",
    "\n",
    "<font size=\"-1\" color=\"gray\">(Remove this cell when delivering.)</font>"
   ]
  },
  {
   "cell_type": "markdown",
   "metadata": {},
   "source": [
    "# 1. Read host names"
   ]
  },
  {
   "cell_type": "markdown",
   "metadata": {},
   "source": [
    "Read the names of the nodes into a dictionary `id2name`, and the labels into another dictionary `id2label`. They keys (nodeids) should be converted to integers using ``int(...)``. Remember in this file each record contains ``nodeid``, ``hostname``, and ``label``.\n",
    "\n",
    "<font size=\"-1\" color=\"gray\">(Remove this cell when delivering.)</font>"
   ]
  },
  {
   "cell_type": "code",
   "execution_count": 125,
   "metadata": {},
   "outputs": [],
   "source": [
    "import io\n",
    "import gzip\n",
    "import csv"
   ]
  },
  {
   "cell_type": "code",
   "execution_count": 126,
   "metadata": {},
   "outputs": [],
   "source": [
    "INPUT_NODES_FILENAME = \"webspam_uk2007-nodes.csv.gz\"\n",
    "INPUT_EDGES_FILENAME = \"webspam_uk2007-edges.csv.gz\""
   ]
  },
  {
   "cell_type": "markdown",
   "metadata": {},
   "source": [
    "<font size=\"+1\" color=\"red\">Replace this cell with your code to read the nodes file into id2name and id2label.</font>"
   ]
  },
  {
   "cell_type": "markdown",
   "metadata": {},
   "source": [
    "Verify that you are reading correctly the file:\n",
    "    \n",
    "```python\n",
    "print(\"%s: %s\" % (id2name[873], id2label[873]))\n",
    "print(\"%s: %s\" % (id2name[105715], id2label[105715]))\n",
    "print(\"Number of hosts: %s\" % len(id2name))\n",
    "```\n",
    "\n",
    "Should print:\n",
    "\n",
    "```\n",
    "bbc.co.uk: nonspam\n",
    "www.top-mobile-phones.co.uk: spam\n",
    "Number of hosts: 114529\n",
    "```\n",
    "\n",
    "If you get a key not found error, most likely you did not convert the ids to integers.\n",
    "\n",
    "<font size=\"-1\" color=\"gray\">(Remove this cell when delivering.)</font>"
   ]
  },
  {
   "cell_type": "markdown",
   "metadata": {},
   "source": [
    "Count how many hosts are labeled as spam, how many as nonspam, and how many are unlabeled, which should be the majority.\n",
    "\n",
    "<font size=\"-1\" color=\"gray\">(Remove this cell when delivering.)</font>"
   ]
  },
  {
   "cell_type": "markdown",
   "metadata": {},
   "source": [
    "<font size=\"+1\" color=\"red\">Replace this cell with your code to print how many hosts are spam, how many are nonspam, and how many are unlabeled (this should be the large majority).</font>"
   ]
  },
  {
   "cell_type": "markdown",
   "metadata": {},
   "source": [
    "# 2. Compute the degree of each node"
   ]
  },
  {
   "cell_type": "markdown",
   "metadata": {},
   "source": [
    "Compute the out-degree of each node and store it in the dictionary id2degree. For this, you will need to read the edges file once. This file contains (``source``, ``destination``, ``weight``) records\n",
    "\n",
    "<font size=\"-1\" color=\"gray\">(Remove this cell when delivering.)</font>"
   ]
  },
  {
   "cell_type": "code",
   "execution_count": 128,
   "metadata": {},
   "outputs": [],
   "source": [
    "# Initialization of id2degree\n",
    "\n",
    "id2degree = {}\n",
    "N = len(id2name)\n",
    "for nodeid in range(N):\n",
    "    id2degree[nodeid] = 0"
   ]
  },
  {
   "cell_type": "markdown",
   "metadata": {},
   "source": [
    "<font size=\"+1\" color=\"red\">Replace this cell with your code to read the degrees of nodes into id2degree.</font>"
   ]
  },
  {
   "cell_type": "markdown",
   "metadata": {},
   "source": [
    "Verify that you are reading correctly the file:\n",
    "    \n",
    "```python\n",
    "print(\"%s: %s\" % (id2name[890], id2degree[890]))\n",
    "print(\"%s: %s\" % (id2name[1469], id2degree[1469]))\n",
    "print(\"%s: %s\" % (id2name[105715], id2degree[105715]))\n",
    "```\n",
    "\n",
    "Should print:\n",
    "\n",
    "```\n",
    "bc1.org.uk: 16\n",
    "candycaine.skinthesun.co.uk: 22\n",
    "www.top-mobile-phones.co.uk: 0\n",
    "```\n",
    "\n",
    "If you get a key not found error, most likely you did not convert the ids to integers or you did ot initialize the id2degree.\n",
    "\n",
    "<font size=\"-1\" color=\"gray\">(Remove this cell when delivering.)</font>"
   ]
  },
  {
   "cell_type": "markdown",
   "metadata": {},
   "source": [
    "# 3. Compute PageRank"
   ]
  },
  {
   "cell_type": "markdown",
   "metadata": {},
   "source": [
    "Perform `iterations=20` iterations with `alpha=0.85`. In each iteration, you will read the file of the graph, **without loading the entire graph in memory**. This means each iteration involves opening (and implicitly, closing) the edges file.\n",
    "\n",
    "Your code should do the following:\n",
    "\n",
    "* At the beginning, initialize the vector `pagerank` as a vector of 1/N and the vector `pagerank_aux` as a vector of 0s.\n",
    "* For `iterations` iterations:\n",
    "   * Read the graph and for every link from *source* to *destination*:\n",
    "      * Add to `pagerank_aux[destination]` the value `pagerank[source]/degree`, where *degree* is the out-degree of the source node (i.e, its number of out-links).\n",
    "   * Set *pagerank* of every node to *alpha x pagerank_aux + (1.0-alpha) x (1.0/N)*.\n",
    "   * Set `pagerank_aux` to 0.0\n",
    "\n",
    "Remember: do not keep the graph in memory, because that will limit the size of the graphs your code can handle. At every iteration you must read the file again.\n",
    "\n",
    "<font size=\"-1\" color=\"gray\">(Remove this cell when delivering.)</font>"
   ]
  },
  {
   "cell_type": "code",
   "execution_count": 129,
   "metadata": {},
   "outputs": [],
   "source": [
    "ITERATIONS = 20\n",
    "ALPHA = 0.85"
   ]
  },
  {
   "cell_type": "markdown",
   "metadata": {},
   "source": [
    "<font size=\"+1\" color=\"red\">Replace this cell with your code to compute PageRank.</font>"
   ]
  },
  {
   "cell_type": "markdown",
   "metadata": {},
   "source": [
    "# 4. Nodes with largest values of PageRank"
   ]
  },
  {
   "cell_type": "markdown",
   "metadata": {},
   "source": [
    "Print the top 20 hosts by PageRank, including the host name, and the PageRank value with 6 decimals.\n",
    "\n",
    "<font size=\"-1\" color=\"gray\">(Remove this cell when delivering.)</font>"
   ]
  },
  {
   "cell_type": "markdown",
   "metadata": {},
   "source": [
    "<font size=\"+1\" color=\"red\">Replace this cell with code to print the 20 hosts having the largest PageRank. Print the host id, host name, label, and score with 6 decimals.</font>"
   ]
  },
  {
   "cell_type": "markdown",
   "metadata": {},
   "source": [
    "<font size=\"+1\" color=\"red\">Include a brief commentary of what you see here. Which are the hosts with the largest values of PageRank? Why?</font>"
   ]
  },
  {
   "cell_type": "markdown",
   "metadata": {},
   "source": [
    "# 5. Non-spam PageRank"
   ]
  },
  {
   "cell_type": "markdown",
   "metadata": {},
   "source": [
    "Now, write code and run non-spam PageRank. For this, compute PageRank as before but ignore any link in which either the source or the destination is a known spam host, i.e., any node for which ``id2label[nodeid] == \"spam\"``. Consider only the edges that start and end in a ``nonspam`` or ``unlabeled`` node.\n",
    "\n",
    "This will change the degree of the nodes: the degree should not consider the links that are being ignored. Hence, we must first re-compute the degree.\n",
    "\n",
    "<font size=\"-1\" color=\"gray\">(Remove this cell when delivering.)</font>"
   ]
  },
  {
   "cell_type": "markdown",
   "metadata": {},
   "source": [
    "<font size=\"+1\" color=\"red\">Replace this cell with code to compute id2nsdegree (ns stands for no-spam).</font>"
   ]
  },
  {
   "cell_type": "markdown",
   "metadata": {},
   "source": [
    "Verify that you are computing the non-spam degree correctly.\n",
    "    \n",
    "```python\n",
    "print(\"%s: %s\" % (id2name[890], id2nsdegree[890]))\n",
    "print(\"%s: %s\" % (id2name[1469], id2nsdegree[1469]))\n",
    "print(\"%s: %s\" % (id2name[105715], id2degree[105715]))\n",
    "```\n",
    "\n",
    "Should print:\n",
    "\n",
    "```\n",
    "bc1.org.uk: 16\n",
    "candycaine.skinthesun.co.uk: 20\n",
    "www.top-mobile-phones.co.uk: 0\n",
    "```\n",
    "\n",
    "<font size=\"-1\" color=\"gray\">(Remove this cell when delivering.)</font>"
   ]
  },
  {
   "cell_type": "markdown",
   "metadata": {},
   "source": [
    "<font size=\"+1\" color=\"red\">Replace this cell with code to compute nspagerank (ns stands for no-spam).</font>"
   ]
  },
  {
   "cell_type": "markdown",
   "metadata": {},
   "source": [
    "<font size=\"+1\" color=\"red\">Replace this cell with code to print the 20 hosts having the largest no-spam PageRank scores. Print the host id, host name, label, and score with 6 decimals.</font>"
   ]
  },
  {
   "cell_type": "markdown",
   "metadata": {},
   "source": [
    "<font size=\"+1\" color=\"red\">Include a brief commentary of what you see here. Which are the hosts with the largest values of non-spam PageRank? Is this list equal or different from the regular PageRank list? Why do you think this happens?</font>"
   ]
  },
  {
   "cell_type": "markdown",
   "metadata": {},
   "source": [
    "# 6. Compute spam gain"
   ]
  },
  {
   "cell_type": "markdown",
   "metadata": {},
   "source": [
    "Finally, compute the *PageRank gain* of every host as *(Normal PageRank) / (No spam PageRank)*. And print the 20 hosts with the largest *PageRank gain*.\n",
    "\n",
    "Among the top hosts you might find many \"spam\" (business that look ilegitimate or that tend to rely on spam such as gambling, pornography, counterfeits, and scams) and \"normal\" sites (i.e., websites that look legitimate), because spammers also point to legitimate sites to disguise their actions.\n",
    "\n",
    "<font size=\"-1\" color=\"gray\">(Remove this cell when delivering.)</font>"
   ]
  },
  {
   "cell_type": "markdown",
   "metadata": {},
   "source": [
    "<font size=\"+1\" color=\"red\">Replace this cell with code to compute pagerank_gain.</font>"
   ]
  },
  {
   "cell_type": "markdown",
   "metadata": {},
   "source": [
    "<font size=\"+1\" color=\"red\">Replace this cell with code to print the 20 hosts with the largest PageRank gain. Print the host id, host name, label, pagerank, nspagerank, and pagerank_gain.</font>"
   ]
  },
  {
   "cell_type": "markdown",
   "metadata": {},
   "source": [
    "<font size=\"+1\" color=\"red\">Include a brief commentary of the types of sites you see in this list, and what can you conclude from this.</font>"
   ]
  },
  {
   "cell_type": "markdown",
   "metadata": {},
   "source": [
    "# Deliver (individually)\n",
    "\n",
    "A .zip file containing:\n",
    "\n",
    "* This notebook.\n",
    "\n",
    "\n",
    "## Extra points available\n",
    "\n",
    "If you would like to go for extra points (+2, so your maximum grade can be a 12 in this assignment), include a Cytoscape drawing of a sample of hosts (e.g., the top ones by PageRank, or the top ones by degree), and painting in one color the nodes that are spam, and in another color the nodes that are nonspam. Exclude the nodes that are *unlabeled*.\n",
    "\n",
    "Include in your sample at least a few hundred hosts; as many as possible without crashing Cytoscape or having to wait an unreasonable amount of time for the layout to be completed.\n",
    "\n",
    "Remember that the `subgraph` function in NetworkX allows you to select a sub-graph given a list of nodes.\n",
    "\n",
    "**Note:** if you go for the extra points, add ``<font size=\"+2\" color=\"blue\">Additional results: spam/nonspam visualization</font>`` at the top of your notebook.\n",
    "\n",
    "<font size=\"-1\" color=\"gray\">(Remove this cell when delivering.)</font>"
   ]
  },
  {
   "cell_type": "markdown",
   "metadata": {},
   "source": [
    "<font size=\"+2\" color=\"#003300\">I hereby declare that, except for the code provided by the course instructors, all of my code, report, and figures were produced by myself.</font>"
   ]
  }
 ],
 "metadata": {
  "kernelspec": {
   "display_name": "Python 3",
   "language": "python",
   "name": "python3"
  },
  "language_info": {
   "codemirror_mode": {
    "name": "ipython",
    "version": 3
   },
   "file_extension": ".py",
   "mimetype": "text/x-python",
   "name": "python",
   "nbconvert_exporter": "python",
   "pygments_lexer": "ipython3",
   "version": "3.6.9"
  }
 },
 "nbformat": 4,
 "nbformat_minor": 2
}
