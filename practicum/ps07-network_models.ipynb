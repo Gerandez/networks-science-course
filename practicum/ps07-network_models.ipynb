{
 "cells": [
  {
   "cell_type": "markdown",
   "metadata": {},
   "source": [
    "# Practice Session 07: Network models\n"
   ]
  },
  {
   "cell_type": "markdown",
   "metadata": {},
   "source": [
    "In this session we will learn to use [NetworkX](https://networkx.github.io/), a Python package, and we will write code to create random graphs and preferential attachment graphs.\n",
    "\n",
    "**Note:** The graph generators we ask you to delive for this practice are already implemented in the NetworkX library and in other places online. *Do not copy those implementations:* they reproduce the same kinds of graph but follow a design that is different from what we describe here.\n",
    "\n",
    "<font size=\"-1\" color=\"gray\">(Remove this cell when delivering.)</font>"
   ]
  },
  {
   "cell_type": "markdown",
   "metadata": {},
   "source": [
    "Author: <font color=\"blue\">Your name here</font>\n",
    "\n",
    "E-mail: <font color=\"blue\">Your e-mail here</font>\n",
    "\n",
    "Date: <font color=\"blue\">The current date here</font>"
   ]
  },
  {
   "cell_type": "markdown",
   "metadata": {},
   "source": [
    "# 1. Random (ER) graph generator"
   ]
  },
  {
   "cell_type": "code",
   "execution_count": 1,
   "metadata": {},
   "outputs": [],
   "source": [
    "import networkx as nx\n",
    "import matplotlib.pyplot as plt\n",
    "import numpy as np\n",
    "import itertools\n",
    "\n",
    "from collections import OrderedDict"
   ]
  },
  {
   "cell_type": "markdown",
   "metadata": {},
   "source": [
    "The following function, which you can leave as-is, will be useful. It returns `True` with probability *p*, and `False` with probability *1-p*:\n",
    "\n",
    "<font size=\"-1\" color=\"gray\">(Remove this cell when delivering.)</font>"
   ]
  },
  {
   "cell_type": "code",
   "execution_count": 2,
   "metadata": {},
   "outputs": [],
   "source": [
    "# Leave as-is\n",
    "\n",
    "def flip_coin(p):\n",
    "    if np.random.random() < p:\n",
    "        return True\n",
    "    else:\n",
    "        return False"
   ]
  },
  {
   "cell_type": "markdown",
   "metadata": {},
   "source": [
    "## 1.1. Generate ER graph"
   ]
  },
  {
   "cell_type": "markdown",
   "metadata": {},
   "source": [
    "Write function `generate_random_graph(N, p)`, that:\n",
    "\n",
    "1. Creates an empty graph\n",
    "1. Adds N nodes to this graph, numbered from *0* to *N-1*\n",
    "1. For each pair *(u,v)* of nodes:\n",
    "   1. With probability *p*, adds an edge between *u* and *v*\n",
    "1. Returns the graph\n",
    "\n",
    "Small graphs can be easily created programmatically in Python with NetworkX.\n",
    "\n",
    "* To create a graph, you use either `networkx.Graph` or `networkx.DiGraph`, which return an undirected an directed graph respectively.\n",
    "* To add a node to a graph *g*, you use `g.add_node(u)`, where *u* is the name of the node.\n",
    "* To add an edge to a graph *g*, you use `g.add_edge(u, v)`, where *u* is the name of the source of the edge, and *v* the name of the destination of the edge.\n",
    "\n",
    "Example:\n",
    "\n",
    "```python\n",
    "g = nx.Graph()\n",
    "g.add_node(0)\n",
    "g.add_node(1)\n",
    "g.add_edge(0, 1)\n",
    "```\n",
    "\n",
    "To generate all pairs of nodes, use:\n",
    "\n",
    "```\n",
    "for u, v in itertools.combinations(G.nodes, 2):\n",
    "    ...\n",
    "```\n",
    "\n",
    "<font size=\"-1\" color=\"gray\">(Remove this cell when delivering.)</font>"
   ]
  },
  {
   "cell_type": "markdown",
   "metadata": {},
   "source": [
    "<font size=\"+1\" color=\"red\">Replace this cell with your code for *generate_random_graph(N,p)*, include comments to explain what you are doing at each step.</font>"
   ]
  },
  {
   "cell_type": "markdown",
   "metadata": {},
   "source": [
    "The following code, which you should leave as-is, tests your generator in terms of the number of nodes and number of edges generated.\n",
    "\n",
    "<font size=\"-1\" color=\"gray\">(Remove this cell when delivering.)</font>"
   ]
  },
  {
   "cell_type": "code",
   "execution_count": 4,
   "metadata": {},
   "outputs": [
    {
     "name": "stdout",
     "output_type": "stream",
     "text": [
      "Average number of edges after 1000 trials: observed=12938.78, expected=12935.00\n"
     ]
    }
   ],
   "source": [
    "# Leave as-is\n",
    "\n",
    "trials = 1000\n",
    "N = 200\n",
    "p = 0.65\n",
    "\n",
    "generated_edges = []\n",
    "for i in range(trials):\n",
    "    g = generate_random_graph(N, p)\n",
    "    generated_edges.append(g.number_of_edges())\n",
    "    assert g.number_of_nodes() == N, \"Incorrect number of nodes\"\n",
    "    \n",
    "print(\"Average number of edges after %d trials: observed=%.2f, expected=%.2f\" % (trials, np.average(generated_edges), p*N*(N-1)/2) )"
   ]
  },
  {
   "cell_type": "markdown",
   "metadata": {},
   "source": [
    "Create a new generator, `generate_random_graph_avg_degree(N, kavg)` that given a target number of nodes, and a target average degree, determines the appropriate value of `p` to call `generate_random_graph(N, p)`, using the formulas seen in class.\n",
    "\n",
    "<font size=\"-1\" color=\"gray\">(Remove this cell when delivering.)</font>"
   ]
  },
  {
   "cell_type": "markdown",
   "metadata": {},
   "source": [
    "The following code, which you should leave as-is, tests your new generator. The observed average degree should be close to the target average degree.\n",
    "\n",
    "<font size=\"-1\" color=\"gray\">(Remove this cell when delivering.)</font>"
   ]
  },
  {
   "cell_type": "code",
   "execution_count": 6,
   "metadata": {},
   "outputs": [
    {
     "name": "stdout",
     "output_type": "stream",
     "text": [
      "Average degree: target=0.000, observed=0.000\n",
      "Average degree: target=0.100, observed=0.101\n",
      "Average degree: target=0.200, observed=0.189\n",
      "Average degree: target=0.300, observed=0.305\n",
      "Average degree: target=0.400, observed=0.395\n",
      "Average degree: target=0.500, observed=0.504\n",
      "Average degree: target=0.600, observed=0.579\n",
      "Average degree: target=0.700, observed=0.721\n",
      "Average degree: target=0.800, observed=0.760\n",
      "Average degree: target=0.900, observed=0.948\n",
      "Average degree: target=1.000, observed=0.984\n",
      "Average degree: target=1.100, observed=1.103\n",
      "Average degree: target=1.200, observed=1.217\n",
      "Average degree: target=1.300, observed=1.227\n",
      "Average degree: target=1.400, observed=1.368\n",
      "Average degree: target=1.500, observed=1.435\n",
      "Average degree: target=1.600, observed=1.523\n",
      "Average degree: target=1.700, observed=1.713\n",
      "Average degree: target=1.800, observed=1.831\n",
      "Average degree: target=1.900, observed=1.947\n"
     ]
    }
   ],
   "source": [
    "# Leave as-is\n",
    "\n",
    "N = 1500\n",
    "target_average_degrees = np.arange(0.0, 2.0, 0.1)\n",
    "\n",
    "for kavg in target_average_degrees:\n",
    "    g = generate_random_graph_avg_degree(N, kavg)\n",
    "    kavg_observed = np.average([g.degree(u) for u in g.nodes()])\n",
    "    print(\"Average degree: target=%.3f, observed=%.3f\" % (kavg, kavg_observed))"
   ]
  },
  {
   "cell_type": "markdown",
   "metadata": {},
   "source": [
    "## 1.2. Measure connectivity\n"
   ]
  },
  {
   "cell_type": "markdown",
   "metadata": {},
   "source": [
    "Create a function `is_connected(g)` that given a graph, answers True if the graph is connected, False otherwise. Do not use the built-in `is_connected` function of NetworkX, but feel free to use the function `nx.has_path(g, source, target)`.\n",
    "\n",
    "Use the `itertools.combinations(G.nodes, 2)` function described above.\n",
    "\n",
    "<font size=\"-1\" color=\"gray\">(Remove this cell when delivering.)</font>"
   ]
  },
  {
   "cell_type": "markdown",
   "metadata": {},
   "source": [
    "<font size=\"+1\" color=\"red\">Replace this cell with your code for *is_connected(g)*, include comments to explain what you are doing at each step.</font>"
   ]
  },
  {
   "cell_type": "markdown",
   "metadata": {},
   "source": [
    "The following code, which you should leave as-is, returns the size of the largest connected component on a graph.\n",
    "\n",
    "<font size=\"-1\" color=\"gray\">(Remove this cell when delivering.)</font>"
   ]
  },
  {
   "cell_type": "code",
   "execution_count": 8,
   "metadata": {},
   "outputs": [],
   "source": [
    "# Leave as-is\n",
    "\n",
    "def size_largest_cc(G):\n",
    "    Gcc = sorted(nx.connected_components(G), key=len, reverse=True)\n",
    "    G0 = G.subgraph(Gcc[0])\n",
    "    return G0.number_of_nodes()"
   ]
  },
  {
   "cell_type": "markdown",
   "metadata": {},
   "source": [
    "Create a series of ER graphs having *N=1000* nodes and target average degree *0.0, 0.1, 0.2, ..., 2.0*, and keep their observed average degrees and the size of their largest connected component, as a fraction of the total number of nodes.\n",
    "\n",
    "You can use the following skeleton:\n",
    "\n",
    "```python\n",
    "N = 1000\n",
    "target_average_degrees = np.arange(0.0, 2.0, 0.1)\n",
    "\n",
    "largest_cc_sizes = []\n",
    "average_degrees = []\n",
    "\n",
    "for target_average_degree in target_average_degrees:\n",
    "    \n",
    "    # Generate graph\n",
    "    g = generate_random_graph_avg_degree(N, target_average_degree)\n",
    "    assert g.number_of_nodes() == N, \"Wrong number of nodes\"\n",
    "    \n",
    "    # Obtain observed average degree\n",
    "    average_degree = # YOUR CODE HERE\n",
    "    average_degrees.append(average_degree)\n",
    "    \n",
    "    # Obtain size of largest connected component as a fraction of the total number of nodes\n",
    "    largest_cc_size = # YOUR CODE HERE\n",
    "    largest_cc_sizes.append(largest_cc_size)\n",
    "```\n",
    "\n",
    "Then, plot *average_degrees* versus *largest_cc_sizes*. Remember to label the axes of your plot appropriately.\n",
    "\n",
    "<font size=\"-1\" color=\"gray\">(Remove this cell when delivering.)</font>"
   ]
  },
  {
   "cell_type": "markdown",
   "metadata": {},
   "source": [
    "<font size=\"+1\" color=\"red\">Replace this cell with your code to create a plot in which in the X axis we have observed average degree and in the Y axis the size of the largest connected component, as a fraction of the number of nodes.</font>"
   ]
  },
  {
   "cell_type": "markdown",
   "metadata": {},
   "source": [
    "<font size=\"+1\" color=\"red\">Replace this cell with a brief commentary of what you see in this figure.</font>"
   ]
  },
  {
   "cell_type": "markdown",
   "metadata": {},
   "source": [
    "## 1.3. Visualize graphs and plot degree distributions"
   ]
  },
  {
   "cell_type": "markdown",
   "metadata": {},
   "source": [
    "To draw a graph, you can use:\n",
    "\n",
    "```python\n",
    "nx.draw_networkx(g)\n",
    "```\n",
    "\n",
    "You can have more control over the visualization of the graph, such as setting the figure size, removing the axis, using a particular layout algorithm, or changing the node size or color:\n",
    "\n",
    "```python\n",
    "plt.figure(figsize=(12,6))\n",
    "plt.axis('off')\n",
    "pos=nx.spring_layout(g)\n",
    "nx.draw_networkx(g, pos, with_labels=True, node_size=500, node_color='yellow')\n",
    "```\n",
    "\n",
    "Tip: In the graph drawings of ER and BA graphs on this report you can use options `with_labels=False, node_size=10` (you can play with different values for `node_size`)\n",
    "\n",
    "<font size=\"-1\" color=\"gray\">(Remove this cell when delivering.)</font>"
   ]
  },
  {
   "cell_type": "markdown",
   "metadata": {},
   "source": [
    "<font size=\"+1\" color=\"red\">Replace this cell with your code to generate and visualize 3 ER graphs of about 200 nodes each. **Make sure all the graphs you generate are connected, check them with your is_connected(g) function**</font>"
   ]
  },
  {
   "cell_type": "markdown",
   "metadata": {},
   "source": [
    "Create another function `print_er_statistics(g,p)` that given an ER graph and a probability *p* prints:\n",
    "\n",
    "* its observed average degree *&lt;k&gt;* \n",
    "* its expected average degree given *N* and *p*, using the formula seen in class\n",
    "\n",
    "You can get a list of *(node, degree)* pairs by invoking `g.degree()`, or ask for the degree of node *u* using `g.degree(u)`. \n",
    "\n",
    "<font size=\"-1\" color=\"gray\">(Remove this cell when delivering.)</font>"
   ]
  },
  {
   "cell_type": "markdown",
   "metadata": {},
   "source": [
    "<font size=\"+1\" color=\"red\">Replace this cell with your code for print_er_statistics</font>"
   ]
  },
  {
   "cell_type": "markdown",
   "metadata": {},
   "source": [
    "You can use the following function (as-is, or modified) to plot the degree distribution in a graph.\n",
    "\n",
    "<font size=\"-1\" color=\"gray\">(Remove this cell when delivering.)</font>"
   ]
  },
  {
   "cell_type": "code",
   "execution_count": 13,
   "metadata": {},
   "outputs": [],
   "source": [
    "# Leave as-is or modify if you want\n",
    "\n",
    "def plot_degree_distribution(g):\n",
    "    degree_dict = dict(g.degree())\n",
    "    degree_ordered = OrderedDict(sorted(degree_dict.items(), key=lambda x: x[1], reverse=True))\n",
    "    degree_sequence = list(degree_ordered.values())\n",
    "    prob, bin_edges = np.histogram(degree_sequence, bins=range(1,np.max(degree_sequence)+2), density=True)\n",
    "    plt.figure(figsize=(12,6))\n",
    "    plt.loglog(bin_edges[:-1], prob, 'o-')\n",
    "    plt.title(\"Probability density function\")\n",
    "    plt.xlabel(\"degree\")\n",
    "    plt.ylabel(\"probability\")\n",
    "    plt.autoscale(enable=True, axis='both')\n",
    "    plt.show()"
   ]
  },
  {
   "cell_type": "markdown",
   "metadata": {},
   "source": [
    "<font size=\"+1\" color=\"red\">Replace this cell with five graphs with *N* between 1500 and 3000, and different probabilities *p*. Start with a small probability *p* that yields a sparse graph, and increase it gradually. Not all graphs need to be connected. For each graph, include its drawing, a drawing of its degree distribution using plot_degree_distribution, its average degree, and its expected average degree.</font>"
   ]
  },
  {
   "cell_type": "markdown",
   "metadata": {},
   "source": [
    "<font size=\"+1\" color=\"red\">Replace this cell with a brief commentary on what you see in the figures above.</font>"
   ]
  },
  {
   "cell_type": "markdown",
   "metadata": {},
   "source": [
    "# 2. Preferential attachment (BA) generator"
   ]
  },
  {
   "cell_type": "markdown",
   "metadata": {},
   "source": [
    "Write code for creating a BA graph.\n",
    "\n",
    "Start by creating an auxiliary function, `select_with_probability(x, m, p)` that selects *m* elements from set *x* according to probabilities in *p*, without replacement. Use `[numpy.random.choice](https://numpy.org/doc/stable/reference/random/generated/numpy.random.choice.html)` to do this.\n",
    "\n",
    "<font size=\"-1\" color=\"gray\">(Remove this cell when delivering.)</font>"
   ]
  },
  {
   "cell_type": "markdown",
   "metadata": {},
   "source": [
    "<font size=\"+1\" color=\"red\">Replace this cell with your code for `select_with_probability`.</font>"
   ]
  },
  {
   "cell_type": "markdown",
   "metadata": {},
   "source": [
    "The next cell, which you should leave as-is, allows you to see how your code works.\n",
    "\n",
    "<font size=\"-1\" color=\"gray\">(Remove this cell when delivering.)</font>"
   ]
  },
  {
   "cell_type": "code",
   "execution_count": 16,
   "metadata": {},
   "outputs": [
    {
     "name": "stdout",
     "output_type": "stream",
     "text": [
      "Element a was selected 888 times, expected 876.0\n",
      "Element b was selected 170 times, expected 180.0\n",
      "Element c was selected 142 times, expected 144.0\n"
     ]
    }
   ],
   "source": [
    "# Leave as-is\n",
    "\n",
    "trials = 1200\n",
    "vector = ['a', 'b', 'c']\n",
    "probabilities = [0.73, 0.15, 0.12]\n",
    "\n",
    "all_selected = []\n",
    "for i in range(trials):\n",
    "    selected = select_with_probability(vector, 1, probabilities)[0]\n",
    "    all_selected.append(selected)\n",
    "    \n",
    "for i, p in zip(vector, probabilities):\n",
    "    print(\"Element %s was selected %d times, expected %.1f\" % (i, all_selected.count(i), trials*p) )"
   ]
  },
  {
   "cell_type": "markdown",
   "metadata": {},
   "source": [
    "Write code for creating a BA graph.\n",
    "\n",
    "Start by creating an auxiliary function, `select_targets(g, m)` that selects *m* target nodes in a graph *g*, with probabilities proportional to the degrees of the nodes. \n",
    "\n",
    "```python\n",
    "def select_targets(g, m):\n",
    "\n",
    "    # Check if feasible\n",
    "    N = g.number_of_nodes()  \n",
    "    if N < m:\n",
    "        raise ValueError('Graph has less than m nodes')\n",
    "\n",
    "    # Compute sum of degree\n",
    "    sum_degree = 0\n",
    "\n",
    "    # YOUR CODE HERE: COMPUTE SUM OF DEGREE OF NODES\n",
    "    if sum_degree == 0:\n",
    "        raise ValueError('Graph as no edges')\n",
    "\n",
    "    # Compute probabilities\n",
    "    probabilities = []\n",
    "    for (node, degree) in g.degree():\n",
    "        # YOUR CODE HERE: COMPUTE PROBABILITY OF SELECTING NODE u\n",
    "        # THEN APPEND IT TO probabilities USING probabilities.append(...)\n",
    "\n",
    "    # Sample\n",
    "    selected = select_with_probability(g.nodes(), m, probabilities)\n",
    "\n",
    "    return selected\n",
    "```\n",
    "\n",
    "<font size=\"-1\" color=\"gray\">(Remove this cell when delivering.)</font>"
   ]
  },
  {
   "cell_type": "markdown",
   "metadata": {},
   "source": [
    "<font size=\"+1\" color=\"red\">Replace this cell with your implementation of select_targets.</font>\n"
   ]
  },
  {
   "cell_type": "markdown",
   "metadata": {},
   "source": [
    "Now, create a function `generate_preferential_attachment_graph(N, m0, m)` that:\n",
    "\n",
    "1. Checks that *m <= m0* or raises a ValueError\n",
    "1. Creates an empty graph\n",
    "1. Adds nodes numbered from *0* to *m<sub>0</sub> - 1* to the graph\n",
    "1. Creates a cycle by linking node *0* to node *1*, node *1* to node *2*, ..., node *m<sub>0</sub>-1* to node *0*\n",
    "1. For every node *u* numbered from *m<sub>0</sub>* to *N - 1*\n",
    "   1. Select *m* targets for this node using `select_targets`\n",
    "   1. Add node *u* (remember to select targets **before** adding the node *u*)\n",
    "   1. Link each node *u* to each of the *m* targets\n",
    "1. Returns the graph\n",
    "\n",
    "To test your code, you can do small experiments with, e.g., *N=100, m<sub>0</sub>=5, m=5* or *N=500, m<sub>0</sub>=2, m=1*, but do not include these small experimens with your deliverable.\n",
    "\n",
    "\n",
    "<font size=\"-1\" color=\"gray\">(Remove this cell when delivering.)</font>"
   ]
  },
  {
   "cell_type": "markdown",
   "metadata": {},
   "source": [
    "<font size=\"+1\" color=\"red\">Replace this cell with your implementation of generate_preferential_attachment_graph(N, m0, m), include comments to explain what you are doing at each step.</font>"
   ]
  },
  {
   "cell_type": "markdown",
   "metadata": {},
   "source": [
    "<font size=\"+1\" color=\"red\">Replace this cell with two preferential attachment (BA) graphs with a few thousand nodes (in the range 1000-3000), and small values of *m0* and *m* (in the range 1-10). For each graph, include their drawing and their degree distribution, in log-log scale, plus a brief commentary of about a paragraph per graph.</font>"
   ]
  },
  {
   "cell_type": "markdown",
   "metadata": {},
   "source": [
    "Under preferential attachment, the nodes that arrive at the beginning tend to have a larger degree. Let us test this. Generate a BA graph with 1000 nodes and plot in the X axis the node-id, and in the Y axis its degree.\n",
    "\n",
    "<font size=\"-1\" color=\"gray\">(Remove this cell when delivering.)</font>"
   ]
  },
  {
   "cell_type": "markdown",
   "metadata": {},
   "source": [
    "<font size=\"+1\" color=\"red\">Replace this cell with your code to generate a BA graph of 1000 nodes, and then plot in the x axis the node-id and in the y axis the degree of each node. Remember to label both axes.</font>"
   ]
  },
  {
   "cell_type": "markdown",
   "metadata": {},
   "source": [
    "<font size=\"+1\" color=\"red\">Replace this cell with a brief commentary on what you observe on this plot.</font>"
   ]
  },
  {
   "cell_type": "markdown",
   "metadata": {},
   "source": [
    "# DELIVER (individually)\n",
    "\n",
    "Remember to read the section on \"delivering your code\" in the [course evaluation guidelines](https://github.com/chatox/networks-science-course/blob/master/upf/upf-evaluation.md).\n",
    "\n",
    "Deliver a zip file containing:\n",
    "\n",
    "* This notebook\n",
    "\n",
    "## Extra points available\n",
    "\n",
    "For more learning and extra points, in the case of the BA graphs add a line that approximates the power-law exponent that you observe in each of the two BA graphs. You can use Hill's estimator as described in the [Power law](https://en.wikipedia.org/wiki/Power_law#Maximum_likelihood) page of Wikipedia.\n",
    "\n",
    "**Note:** if you go for the extra points, add ``<font size=\"+2\" color=\"blue\">Additional results: fitting of power-law</font>`` at the top of your notebook.\n",
    "\n",
    "<font size=\"-1\" color=\"gray\">(Remove this cell when delivering.)</font>"
   ]
  },
  {
   "cell_type": "markdown",
   "metadata": {},
   "source": [
    "<font size=\"+2\" color=\"#003300\">I hereby declare that, except for the code provided by the course instructors, all of my code, report, and figures were produced by myself.</font>"
   ]
  }
 ],
 "metadata": {
  "kernelspec": {
   "display_name": "Python 3",
   "language": "python",
   "name": "python3"
  },
  "language_info": {
   "codemirror_mode": {
    "name": "ipython",
    "version": 3
   },
   "file_extension": ".py",
   "mimetype": "text/x-python",
   "name": "python",
   "nbconvert_exporter": "python",
   "pygments_lexer": "ipython3",
   "version": "3.8.10"
  }
 },
 "nbformat": 4,
 "nbformat_minor": 2
}
