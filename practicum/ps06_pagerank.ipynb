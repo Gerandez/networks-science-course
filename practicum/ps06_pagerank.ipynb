{
 "cells": [
  {
   "cell_type": "markdown",
   "metadata": {},
   "source": [
    "# Practice Session 06: PageRank"
   ]
  },
  {
   "cell_type": "markdown",
   "metadata": {},
   "source": [
    "We will compute PageRank on a graph that represents the web of UK around 2007. Each node is a host, and there is a link between two hosts if there is a web page in one of them pointing to a web page in the other one. This network is weighted: the weight is the number of pages that point from one host to the other one.\n",
    "\n",
    "The collection we will use, [WEBSPAM-UK2007](http://chato.cl/webspam/datasets/uk2007/), has been used in multiple studies on the effect of web spam. Feel free to decompress these files to inspect them, **but your code must read only these files in compressed form**:\n",
    "\n",
    "* ``webspam_uk2007-nodes.csv.gz`` contains (``nodeid``, ``hostname``, ``label``) records\n",
    "* ``webspam_uk2007-edges.csv.gz`` contains (``source``, ``destination``, ``weight``) records\n",
    "\n",
    "Your task is to compute PageRank twice: first considering all the links, and then ignoring links from or to a known spam host.\n",
    "\n",
    "<font size=\"-1\" color=\"gray\">(Remove this cell when delivering.)</font>"
   ]
  },
  {
   "cell_type": "markdown",
   "metadata": {},
   "source": [
    "# 1. Read host names"
   ]
  },
  {
   "cell_type": "markdown",
   "metadata": {},
   "source": [
    "Read the names of the nodes and the labels. For this, you can use [csv.DictReader](https://docs.python.org/3/library/csv.html#csv.DictReader). Suppose ``FILENAME`` points to a file with the following contents:\n",
    "\n",
    "```\n",
    "a,b,c,d\n",
    "1,2,3,4\n",
    "5,6,7,8\n",
    "```\n",
    "\n",
    "The following code:\n",
    "\n",
    "```python\n",
    "with gzip.open(FILENAME, \"rt\", encoding=\"utf-8\") as input_file:\n",
    "    reader = csv.DictReader(input_file, delimiter=',', quotechar='\"')\n",
    "    for record in reader:\n",
    "        print(record[\"b\"])\n",
    "```\n",
    "\n",
    "Prints:\n",
    "\n",
    "```\n",
    "2\n",
    "6\n",
    "```\n",
    "\n",
    "Remember in the `INPUT_NODES_FILENAME` each record contains ``nodeid``, ``hostname``, and ``label``.\n",
    "\n",
    "Read the id to name mapping into a dictionary `id2name`, the name to id mapping into a dictionary `name2id`, and the id to label mapping into another dictionary `id2label`. They keys (nodeids) in both dictionaries should be converted to integers using ``int(...)``.\n",
    "\n",
    "<font size=\"-1\" color=\"gray\">(Remove this cell when delivering.)</font>"
   ]
  },
  {
   "cell_type": "code",
   "execution_count": null,
   "metadata": {},
   "outputs": [],
   "source": [
    "import io\n",
    "import gzip\n",
    "import csv\n",
    "import networkx as nx\n",
    "import matplotlib.pyplot as plt"
   ]
  },
  {
   "cell_type": "code",
   "execution_count": null,
   "metadata": {},
   "outputs": [],
   "source": [
    "INPUT_NODES_FILENAME = \"webspam_uk2007-nodes.csv.gz\"\n",
    "INPUT_EDGES_FILENAME = \"webspam_uk2007-edges.csv.gz\""
   ]
  },
  {
   "cell_type": "markdown",
   "metadata": {},
   "source": [
    "<font size=\"+1\" color=\"red\">Replace this cell with your code to read the nodes file into id2name, name2id, and id2label.</font>"
   ]
  },
  {
   "cell_type": "markdown",
   "metadata": {},
   "source": [
    "Verify that you read correctly the file. The following will test two known hosts, *873* should be the BBC, a non-spam site, and *105715* should be a spam website that used to sell mobile phones.\n",
    "\n",
    "If you get a *key not found* error, most likely you did not convert the ids to integers.\n",
    "\n",
    "<font size=\"-1\" color=\"gray\">(Remove this cell when delivering.)</font>"
   ]
  },
  {
   "cell_type": "code",
   "execution_count": null,
   "metadata": {},
   "outputs": [],
   "source": [
    "# Leave as-is\n",
    "\n",
    "print(\"%s: %s\" % (id2name[873], id2label[873]))\n",
    "print(\"%s: %s\" % (id2name[105715], id2label[105715]))\n",
    "print(\"Number of hosts: %s\" % len(id2name))"
   ]
  },
  {
   "cell_type": "markdown",
   "metadata": {},
   "source": [
    "Next, print how many hosts have label `spam`, `nonspam`, and `unlabeled`.\n",
    "\n",
    "<font size=\"-1\" color=\"gray\">(Remove this cell when delivering.)</font>"
   ]
  },
  {
   "cell_type": "markdown",
   "metadata": {},
   "source": [
    "<font size=\"+1\" color=\"red\">Replace this cell with your code to print how many hosts are spam, how many are nonspam, and how many are unlabeled (this should be the large majority).</font>"
   ]
  },
  {
   "cell_type": "markdown",
   "metadata": {},
   "source": [
    "Now let's explore a small part of the graph. For this, you will need to open the file `INPUT_EDGES_FILENAME` which contains columns `source`, `destination`, and `weight` indicating that some pages in host id `source` point to pages in host id `destination`. The number of such pages is the `weight`.\n",
    "\n",
    "The graph is too large so we will focus on two categories that tend to be heavily spammed: adult content and financial services. We will use the following:\n",
    "\n",
    "```python\n",
    "spammywords = ['escort', 'xx', 'girl', 'credit', 'mortgage', 'finance', 'debt', 'loan']\n",
    "```\n",
    "\n",
    "Now, create a directed graph `g = nx.DiGraph()` containing all the edges that fulfil **all three of the following conditions**:\n",
    "\n",
    "1. The source contains one of the `spammywords` **or** the destination contains one of the `spammywords`\n",
    "1. The source is labeled as either `spam` or `nonspam`\n",
    "1. The destination is labeled as either `spam` or `nonspam`\n",
    "\n",
    "Your graph should have nodes that are hostnames, so whenever you find such an edge in the input file, you should do:\n",
    "\n",
    "```python\n",
    "g.add_edge(id2name[source], id2name[destination])\n",
    "```\n",
    "\n",
    "Print the number of nodes in the resulting graph (`g.number_of_nodes()`), it should be less than 100.\n",
    "\n",
    "<font size=\"-1\" color=\"gray\">(Remove this cell when delivering.)</font>"
   ]
  },
  {
   "cell_type": "markdown",
   "metadata": {},
   "source": [
    "<font size=\"+1\" color=\"red\">Replace this cell with your code to load a subgraph of the input graph, as described above.</font>"
   ]
  },
  {
   "cell_type": "markdown",
   "metadata": {},
   "source": [
    "The following code, that you should leave as-is (or modify slightly, if you want), displays this subgraph.\n",
    "\n",
    "<font size=\"-1\" color=\"gray\">(Remove this cell when delivering.)</font>"
   ]
  },
  {
   "cell_type": "code",
   "execution_count": null,
   "metadata": {},
   "outputs": [],
   "source": [
    "# Leave this code as-is, or modify slightly\n",
    "\n",
    "colors = []\n",
    "hostname_converted = {}\n",
    "\n",
    "for hostname in g.nodes():\n",
    "    # Assign colors to nodes according to spam/nonspam labels\n",
    "    if id2label[name2id[hostname]] == 'spam':\n",
    "        colors.append('red')\n",
    "    elif id2label[name2id[hostname]] == 'nonspam':\n",
    "        colors.append('lightgreen')\n",
    "    else:\n",
    "        colors.append('white')\n",
    "    \n",
    "    # Shorten the hostnames to generate labels    \n",
    "    label = hostname.replace(\"www.\", \"\").replace(\".uk\", \"\")\n",
    "    hostname_converted[hostname] = label\n",
    "    \n",
    "# Notice that if you re-run this cell the layout will be different every time\n",
    "plt.figure(figsize=(20, 20))\n",
    "plt.axis('off')\n",
    "pos = nx.spring_layout(g)\n",
    "nx.draw_networkx(g, pos, with_labels=True, node_size=400, node_color=colors, labels=hostname_converted)"
   ]
  },
  {
   "cell_type": "markdown",
   "metadata": {},
   "source": [
    "<font size=\"+1\" color=\"red\">Replace this cell with a brief commentary on what you see in the plot above.</font>"
   ]
  },
  {
   "cell_type": "markdown",
   "metadata": {},
   "source": [
    "# 2. Compute the degree of each node"
   ]
  },
  {
   "cell_type": "markdown",
   "metadata": {},
   "source": [
    "Compute the out-degree of each node and store it in the dictionary id2degree. For this, you will need to read the edges file once, without trying to store the graph in main memory.\n",
    "\n",
    "Remember that this file contains ``source``, ``destination``, ``weight`` records.\n",
    "\n",
    "<font size=\"-1\" color=\"gray\">(Remove this cell when delivering.)</font>"
   ]
  },
  {
   "cell_type": "code",
   "execution_count": null,
   "metadata": {},
   "outputs": [],
   "source": [
    "# Leave this code as-is\n",
    "\n",
    "id2degree = {}\n",
    "N = len(id2name)\n",
    "for nodeid in range(N):\n",
    "    id2degree[nodeid] = 0"
   ]
  },
  {
   "cell_type": "markdown",
   "metadata": {},
   "source": [
    "<font size=\"+1\" color=\"red\">Replace this cell with your code to read the degrees of nodes into id2degree.</font>"
   ]
  },
  {
   "cell_type": "markdown",
   "metadata": {},
   "source": [
    "Verify that you are reading correctly the file. The following cell should print:\n",
    "\n",
    "```\n",
    "bc1.org.uk: 16\n",
    "candycaine.skinthesun.co.uk: 22\n",
    "www.top-mobile-phones.co.uk: 0\n",
    "```\n",
    "\n",
    "If you get a key not found error, most likely you did not convert the ids to integers or you did ot initialize the id2degree.\n",
    "\n",
    "<font size=\"-1\" color=\"gray\">(Remove this cell when delivering.)</font>"
   ]
  },
  {
   "cell_type": "code",
   "execution_count": null,
   "metadata": {},
   "outputs": [],
   "source": [
    "# Leave this cell as-is\n",
    "\n",
    "for nodeid in [890, 1469, 105715]:\n",
    "    print(\"%s: degree %d\" % (id2name[nodeid], id2degree[nodeid]))"
   ]
  },
  {
   "cell_type": "markdown",
   "metadata": {},
   "source": [
    "# 3. Compute PageRank"
   ]
  },
  {
   "cell_type": "markdown",
   "metadata": {},
   "source": [
    "Perform `iterations=20` iterations with `alpha=0.85`. In each iteration, you will read the file of the graph, **without loading the entire graph in memory**. This means each iteration involves opening (and implicitly, closing) the edges file.\n",
    "\n",
    "Your code should do the following:\n",
    "\n",
    "* At the beginning, initialize the vector `pagerank` as a vector of 1/N and the vector `pagerank_aux` as a vector of 0s.\n",
    "* For `iterations` iterations:\n",
    "   * Read the graph and for every link from *source* to *destination*:\n",
    "      * Add to `pagerank_aux[destination]` the value `pagerank[source]/degree`, where *degree* is the out-degree of the source node (i.e, its number of out-links).\n",
    "   * Set *pagerank* of every node to *alpha x pagerank_aux + (1.0-alpha) x (1.0/N)*.\n",
    "   * Set `pagerank_aux` to 0.0\n",
    "\n",
    "Remember: do not keep the graph in memory, because that will limit the size of the graphs your code can handle. At every iteration you must read the file again. You can use the following template:\n",
    "\n",
    "```python\n",
    "for iteration in range(ITERATIONS):\n",
    "    print(\"Iteration %d of %d\" % (iteration+1, ITERATIONS))\n",
    "    with gzip.open(INPUT_EDGES_FILENAME, \"rt\", encoding=\"utf-8\") as input_file:\n",
    "        ...\n",
    "\n",
    "```\n",
    "\n",
    "<font size=\"-1\" color=\"gray\">(Remove this cell when delivering.)</font>"
   ]
  },
  {
   "cell_type": "code",
   "execution_count": null,
   "metadata": {},
   "outputs": [],
   "source": [
    "# Leave this cell as-is\n",
    "\n",
    "ITERATIONS = 20\n",
    "ALPHA = 0.85\n",
    "\n",
    "pagerank_aux = [0.0] * N\n",
    "pagerank = [1.0/N] * N"
   ]
  },
  {
   "cell_type": "markdown",
   "metadata": {},
   "source": [
    "<font size=\"+1\" color=\"red\">Replace this cell with your code to compute PageRank.</font>"
   ]
  },
  {
   "cell_type": "markdown",
   "metadata": {},
   "source": [
    "# 4. Nodes with largest values of PageRank"
   ]
  },
  {
   "cell_type": "markdown",
   "metadata": {},
   "source": [
    "Print the top 20 hosts by PageRank, including the host name, and the PageRank value with 6 decimals.\n",
    "\n",
    "You can use the `enumerate()` function which converts a list `[a, b, c]` into `[(0,a), (1,b), (2,c)]` and then `sort()` as follows. Suppose ``score`` contains ``[0.2, 0.7, 0.4]``:\n",
    "\n",
    "```python\n",
    "hosts_by_score = sorted(enumerate(score), key=lambda x: x[1], reverse=True)\n",
    "```\n",
    "\n",
    "Will return the list `[(1,0.7), (2,0.4), (0,0.2)]`\n",
    "\n",
    "<font size=\"-1\" color=\"gray\">(Remove this cell when delivering.)</font>"
   ]
  },
  {
   "cell_type": "markdown",
   "metadata": {},
   "source": [
    "<font size=\"+1\" color=\"red\">Replace this cell with code to print the 20 hosts having the largest PageRank. Print the host id, host name, label, and score with 6 decimals.</font>"
   ]
  },
  {
   "cell_type": "markdown",
   "metadata": {},
   "source": [
    "<font size=\"+1\" color=\"red\">Replace this cell with a brief commentary indicating: (1) why do you think the top site is that one, and (2) what is the percentage of commercial, government, and educational sites you see among the top 20?</font>"
   ]
  },
  {
   "cell_type": "markdown",
   "metadata": {},
   "source": [
    "# 5. Run non-spam PageRank"
   ]
  },
  {
   "cell_type": "markdown",
   "metadata": {},
   "source": [
    "Now, write code and run non-spam PageRank. For this, simply ignore any link in which either the source or the destination is a known spam host.\n",
    "\n",
    "You can query this with ``id2label[source] != \"spam\" and id2label[destination] != \"spam\"``.\n",
    "\n",
    "To run this, first you need to compute the \"no-spam degree\" of the nodes in a dictionary `id2nsdegree`, and use that degree of the nodes.\n",
    "\n",
    "<font size=\"-1\" color=\"gray\">(Remove this cell when delivering.)</font>"
   ]
  },
  {
   "cell_type": "markdown",
   "metadata": {},
   "source": [
    "<font size=\"+1\" color=\"red\">Replace this cell with code to compute id2nsdegree (ns stands for no-spam).</font>"
   ]
  },
  {
   "cell_type": "markdown",
   "metadata": {},
   "source": [
    "Verify that you are reading correctly the file. The following cell should print:\n",
    "\n",
    "```\n",
    "bc1.org.uk: normal degree 16 nospam degree 16\n",
    "candycaine.skinthesun.co.uk: normal degree 22 nospam degree 20\n",
    "www.top-mobile-phones.co.uk: normal degree 0 nospam degree 0\n",
    "```\n",
    "\n",
    "<font size=\"-1\" color=\"gray\">(Remove this cell when delivering.)</font>"
   ]
  },
  {
   "cell_type": "code",
   "execution_count": null,
   "metadata": {},
   "outputs": [],
   "source": [
    "# Leave this cell as-is\n",
    "\n",
    "for nodeid in [890, 1469, 105715]:\n",
    "    print(\"%s: normal degree %d nospam degree %d\" % (id2name[nodeid], id2degree[nodeid], id2nsdegree[nodeid]))"
   ]
  },
  {
   "cell_type": "markdown",
   "metadata": {},
   "source": [
    "<font size=\"+1\" color=\"red\">Replace this cell with code to compute nspagerank (ns stands for no-spam).</font>"
   ]
  },
  {
   "cell_type": "markdown",
   "metadata": {},
   "source": [
    "<font size=\"+1\" color=\"red\">Replace this cell with code to print the 20 hosts having the largest no-spam PageRank scores. Print the host id, host name, label, and score with 6 decimals.</font>"
   ]
  },
  {
   "cell_type": "markdown",
   "metadata": {},
   "source": [
    "# 6. Compute spam gain"
   ]
  },
  {
   "cell_type": "markdown",
   "metadata": {},
   "source": [
    "Finally, compute the gain of every host as *(Normal PageRank) / (No spam PageRank)*.\n",
    "\n",
    "Among the top 50 hosts you might find many \"spam\" (business that look ilegitimate or that tend to rely on spam such as gambling, pornography, counterfeits, and scams). You might also find \"normal\" sites (i.e., websites that look legitimate), because spammers also point to legitimate sites to disguise their actions.\n",
    "\n",
    "Print the following:\n",
    "\n",
    "* The hostname\n",
    "* Its spam/nospam label\n",
    "* Their gain *(Normal PageRank) / (No spam PageRank)* with two decimals (e.g., \"3.22\")\n",
    "* Their PageRank in scientific notation with two significant digits (e.g., \"5.8e-06\")\n",
    "* Their no-spam-PageRank in scientific notation with two significant digits (e.g., \"5.8e-06\")\n",
    "\n",
    "<font size=\"-1\" color=\"gray\">(Remove this cell when delivering.)</font>"
   ]
  },
  {
   "cell_type": "markdown",
   "metadata": {},
   "source": [
    "<font size=\"+1\" color=\"red\">Replace this cell with your code to print the top 50 hosts by spam gain.</font>"
   ]
  },
  {
   "cell_type": "markdown",
   "metadata": {},
   "source": [
    "<font size=\"+1\" color=\"red\">Replace this cell with a brief commentary on the websites you find on this list. Notice that many of them have a non-spam-PageRank that is the same value, why do you think that happens?</font>"
   ]
  },
  {
   "cell_type": "markdown",
   "metadata": {},
   "source": [
    "# Deliver (individually)\n",
    "\n",
    "A .zip file containing:\n",
    "\n",
    "* This notebook.\n",
    "\n",
    "\n",
    "## Extra points available\n",
    "\n",
    "If you would like to go for extra points (+2, so your maximum grade can be a 12 in this assignment), include a Cytoscape drawing of a sample of hosts (e.g., the top ones by PageRank, or the top ones by degree, perhaps restricted to '.co.uk' sites), and painting in one color the nodes that are spam, and in another color the nodes that are nonspam. Exclude the nodes that are *unlabeled*.\n",
    "\n",
    "Include in your sample at least a few hundred hosts; as many as possible without crashing Cytoscape or having to wait an unreasonable amount of time for the layout to be completed.\n",
    "\n",
    "Remember that the `subgraph` function in NetworkX allows you to select a sub-graph given a list of nodes.\n",
    "\n",
    "**Note:** if you go for the extra points, add ``<font size=\"+2\" color=\"blue\">Additional results: spam/nonspam visualization</font>`` at the top of your notebook.\n",
    "\n",
    "<font size=\"-1\" color=\"gray\">(Remove this cell when delivering.)</font>"
   ]
  },
  {
   "cell_type": "markdown",
   "metadata": {},
   "source": [
    "<font size=\"+2\" color=\"#003300\">I hereby declare that, except for the code provided by the course instructors, all of my code, report, and figures were produced by myself.</font>"
   ]
  }
 ],
 "metadata": {
  "kernelspec": {
   "display_name": "Python 3",
   "language": "python",
   "name": "python3"
  },
  "language_info": {
   "codemirror_mode": {
    "name": "ipython",
    "version": 3
   },
   "file_extension": ".py",
   "mimetype": "text/x-python",
   "name": "python",
   "nbconvert_exporter": "python",
   "pygments_lexer": "ipython3",
   "version": "3.8.10"
  }
 },
 "nbformat": 4,
 "nbformat_minor": 2
}
