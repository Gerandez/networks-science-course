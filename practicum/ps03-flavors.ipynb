{
 "cells": [
  {
   "cell_type": "markdown",
   "metadata": {},
   "source": [
    "# Practice Session 03: Management of networks data"
   ]
  },
  {
   "cell_type": "markdown",
   "metadata": {},
   "source": [
    "In this session we will study an application of complex networks analysis to cooking. We will start with the *flavors network*, a bi-partite network connecting culinary ingredients to flavour compounds [*].\n",
    "\n",
    "The initial dataset, prepared by [Ling Cheng in 2016](https://github.com/lingcheng99/Flavor-Network), contains three files:\n",
    "\n",
    "* `ingredients.csv` -- information about culinary ingredients\n",
    "* `compounds.csv` -- information about flavour compounds\n",
    "* `ingredient-compound.csv` -- flavour compounds present in each culinary ingredient\n",
    "* `recipes.csv` -- ingredients used in recipes around the world (used only for extra points)\n",
    "\n",
    "\n",
    "[*] Ahn, Y. Y., Ahnert, S. E., Bagrow, J. P., & Barabási, A. L. (2011). [Flavor network and the principles of food pairing](https://doi.org/10.1038/srep00196). Scientific reports, 1(1), 1-7.\n",
    "\n",
    "\n",
    "<font size=\"-1\" color=\"gray\">(Remove this cell when delivering.)</font>"
   ]
  },
  {
   "cell_type": "markdown",
   "metadata": {},
   "source": [
    "Author: <font color=\"blue\">Your name here</font>\n",
    "\n",
    "E-mail: <font color=\"blue\">Your e-mail here</font>\n",
    "\n",
    "Date: <font color=\"blue\">The current date here</font>"
   ]
  },
  {
   "cell_type": "markdown",
   "metadata": {},
   "source": [
    "# 1. The flavors bi-partite graph"
   ]
  },
  {
   "cell_type": "markdown",
   "metadata": {},
   "source": [
    "## 1.0. Examine your input files\n",
    "\n",
    "Before you begin, we highly recommend you to:\n",
    "\n",
    "1. Copy the input files to a local directory in your computer \n",
    "2. Open them in a spreadsheet and look at them\n",
    "\n",
    "<font size=\"-1\" color=\"gray\">(Remove this cell when delivering.)</font>"
   ]
  },
  {
   "cell_type": "markdown",
   "metadata": {},
   "source": [
    "## 1.1. Read the bipartite graph in a dataframe\n"
   ]
  },
  {
   "cell_type": "markdown",
   "metadata": {},
   "source": [
    "The following code, which you can leave as-is, reads the ingredient-compound relationship into a dataframe.\n",
    "\n",
    "<font size=\"-1\" color=\"gray\">(Remove this cell when delivering.)</font>"
   ]
  },
  {
   "cell_type": "code",
   "execution_count": 1,
   "metadata": {},
   "outputs": [],
   "source": [
    "# Feel free to add imports if you need them\n",
    "\n",
    "import io\n",
    "import csv\n",
    "import pandas as pd\n",
    "import networkx as nx\n",
    "\n",
    "from networkx.algorithms import bipartite\n",
    "\n",
    "import numpy as np\n",
    "import matplotlib\n",
    "import scipy\n",
    "\n",
    "import itertools\n",
    "\n",
    "from IPython.display import Image"
   ]
  },
  {
   "cell_type": "code",
   "execution_count": 2,
   "metadata": {},
   "outputs": [],
   "source": [
    "# Leave this code as-is\n",
    "\n",
    "INPUT_INGR_FILENAME = \"ingredients.tsv\"\n",
    "INPUT_COMP_FILENAME = \"compounds.tsv\"\n",
    "INPUT_INGR_COMP_FILENAME = \"ingredient-compound.tsv\""
   ]
  },
  {
   "cell_type": "code",
   "execution_count": 3,
   "metadata": {},
   "outputs": [
    {
     "data": {
      "text/html": [
       "<div>\n",
       "<style scoped>\n",
       "    .dataframe tbody tr th:only-of-type {\n",
       "        vertical-align: middle;\n",
       "    }\n",
       "\n",
       "    .dataframe tbody tr th {\n",
       "        vertical-align: top;\n",
       "    }\n",
       "\n",
       "    .dataframe thead th {\n",
       "        text-align: right;\n",
       "    }\n",
       "</style>\n",
       "<table border=\"1\" class=\"dataframe\">\n",
       "  <thead>\n",
       "    <tr style=\"text-align: right;\">\n",
       "      <th></th>\n",
       "      <th># id</th>\n",
       "      <th>ingredient name</th>\n",
       "      <th>category</th>\n",
       "    </tr>\n",
       "  </thead>\n",
       "  <tbody>\n",
       "    <tr>\n",
       "      <th>0</th>\n",
       "      <td>0</td>\n",
       "      <td>magnolia_tripetala</td>\n",
       "      <td>flower</td>\n",
       "    </tr>\n",
       "    <tr>\n",
       "      <th>1</th>\n",
       "      <td>1</td>\n",
       "      <td>calyptranthes_parriculata</td>\n",
       "      <td>plant</td>\n",
       "    </tr>\n",
       "    <tr>\n",
       "      <th>2</th>\n",
       "      <td>2</td>\n",
       "      <td>chamaecyparis_pisifera_oil</td>\n",
       "      <td>plant derivative</td>\n",
       "    </tr>\n",
       "  </tbody>\n",
       "</table>\n",
       "</div>"
      ],
      "text/plain": [
       "   # id             ingredient name          category\n",
       "0     0          magnolia_tripetala            flower\n",
       "1     1   calyptranthes_parriculata             plant\n",
       "2     2  chamaecyparis_pisifera_oil  plant derivative"
      ]
     },
     "metadata": {},
     "output_type": "display_data"
    },
    {
     "data": {
      "text/html": [
       "<div>\n",
       "<style scoped>\n",
       "    .dataframe tbody tr th:only-of-type {\n",
       "        vertical-align: middle;\n",
       "    }\n",
       "\n",
       "    .dataframe tbody tr th {\n",
       "        vertical-align: top;\n",
       "    }\n",
       "\n",
       "    .dataframe thead th {\n",
       "        text-align: right;\n",
       "    }\n",
       "</style>\n",
       "<table border=\"1\" class=\"dataframe\">\n",
       "  <thead>\n",
       "    <tr style=\"text-align: right;\">\n",
       "      <th></th>\n",
       "      <th># id</th>\n",
       "      <th>Compound name</th>\n",
       "      <th>CAS number</th>\n",
       "    </tr>\n",
       "  </thead>\n",
       "  <tbody>\n",
       "    <tr>\n",
       "      <th>0</th>\n",
       "      <td>0</td>\n",
       "      <td>jasmone</td>\n",
       "      <td>488-10-8</td>\n",
       "    </tr>\n",
       "    <tr>\n",
       "      <th>1</th>\n",
       "      <td>1</td>\n",
       "      <td>5-methylhexanoic_acid</td>\n",
       "      <td>628-46-6</td>\n",
       "    </tr>\n",
       "    <tr>\n",
       "      <th>2</th>\n",
       "      <td>2</td>\n",
       "      <td>l-glutamine</td>\n",
       "      <td>56-85-9</td>\n",
       "    </tr>\n",
       "  </tbody>\n",
       "</table>\n",
       "</div>"
      ],
      "text/plain": [
       "   # id          Compound name CAS number\n",
       "0     0                jasmone   488-10-8\n",
       "1     1  5-methylhexanoic_acid   628-46-6\n",
       "2     2            l-glutamine    56-85-9"
      ]
     },
     "metadata": {},
     "output_type": "display_data"
    },
    {
     "data": {
      "text/html": [
       "<div>\n",
       "<style scoped>\n",
       "    .dataframe tbody tr th:only-of-type {\n",
       "        vertical-align: middle;\n",
       "    }\n",
       "\n",
       "    .dataframe tbody tr th {\n",
       "        vertical-align: top;\n",
       "    }\n",
       "\n",
       "    .dataframe thead th {\n",
       "        text-align: right;\n",
       "    }\n",
       "</style>\n",
       "<table border=\"1\" class=\"dataframe\">\n",
       "  <thead>\n",
       "    <tr style=\"text-align: right;\">\n",
       "      <th></th>\n",
       "      <th># ingredient id</th>\n",
       "      <th>compound id</th>\n",
       "    </tr>\n",
       "  </thead>\n",
       "  <tbody>\n",
       "    <tr>\n",
       "      <th>0</th>\n",
       "      <td>1392</td>\n",
       "      <td>906</td>\n",
       "    </tr>\n",
       "    <tr>\n",
       "      <th>1</th>\n",
       "      <td>1259</td>\n",
       "      <td>861</td>\n",
       "    </tr>\n",
       "    <tr>\n",
       "      <th>2</th>\n",
       "      <td>1079</td>\n",
       "      <td>673</td>\n",
       "    </tr>\n",
       "  </tbody>\n",
       "</table>\n",
       "</div>"
      ],
      "text/plain": [
       "   # ingredient id  compound id\n",
       "0             1392          906\n",
       "1             1259          861\n",
       "2             1079          673"
      ]
     },
     "metadata": {},
     "output_type": "display_data"
    }
   ],
   "source": [
    "# Leave this code as-is\n",
    "\n",
    "ingredients = pd.read_csv(INPUT_INGR_FILENAME, sep=\"\\t\")\n",
    "display(ingredients.head(3))\n",
    "\n",
    "compounds = pd.read_csv(INPUT_COMP_FILENAME, sep=\"\\t\")\n",
    "display(compounds.head(3))\n",
    "\n",
    "ingr_comp = pd.read_csv(INPUT_INGR_COMP_FILENAME, sep=\"\\t\")\n",
    "display(ingr_comp.head(3))\n"
   ]
  },
  {
   "cell_type": "markdown",
   "metadata": {},
   "source": [
    "## 1.2. Create the flavors bipartite network"
   ]
  },
  {
   "cell_type": "markdown",
   "metadata": {},
   "source": [
    "\n",
    "Create a new dataframe named `flavors`, containing three (and only three) columns named `ingredient` (name of ingredient), `ingredient_category` (name of the category of the ingredient) and `compound` (name of compound). \n",
    "\n",
    "The dataframe should be ordered first by `ingredient`, then by `compound`.\n",
    "\n",
    "*Tips:*\n",
    "\n",
    "* To [join](https://pandas.pydata.org/docs/reference/api/pandas.DataFrame.join.html) a DataFrame A containing columns *x*, *y* and a DataFrame B containing columns *y*, *z*, on column *y*, you can do: `C = A.set_index('y').join(B.set_index('y'))`. \n",
    "* To [rename columns](https://pandas.pydata.org/docs/reference/api/pandas.DataFrame.rename.html) in a DataFrame A, for instance column *x* to *u* and column *y* to *v*, you can do: `A = A.rename(columns={\"x\": \"u\", \"y\": \"v\"})`\n",
    "* To [drop column](https://pandas.pydata.org/docs/reference/api/pandas.DataFrame.drop.html) x from DataFrame A, you can do: `A = A.drop(columns=['x'])`\n",
    "* To [sort](https://pandas.pydata.org/docs/reference/api/pandas.DataFrame.sort_values.html) a DataFrame A by column *x*, then by column *y*, you can do: `A = A.sort_values(['x', 'y'])`\n",
    "* To [reset the index](https://pandas.pydata.org/docs/reference/api/pandas.DataFrame.reset_index.html) of a DataFrame A, you can do: `A = A.reset_index(drop=True)`; the index is the column appearing in boldface in front of every row of a DataFrame\n",
    "\n",
    "<font size=\"-1\" color=\"gray\">(Remove this cell when delivering.)</font>"
   ]
  },
  {
   "cell_type": "markdown",
   "metadata": {},
   "source": [
    "<font size=\"+1\" color=\"red\">Replace this cell with your code to create the `flavors` dataframe, representing a bi-partite network of ingredients and compounds</font>"
   ]
  },
  {
   "cell_type": "markdown",
   "metadata": {},
   "source": [
    "Write this dataframe to a `flavors.tsv` file, which should be a tab-separated file containing the three fields `ingredient`, `ingredient_category` and `compound`. Use the function [pandas.DataFrame.to_csv](https://pandas.pydata.org/docs/reference/api/pandas.DataFrame.to_csv.html).\n",
    "\n",
    "<font size=\"-1\" color=\"gray\">(Remove this cell when delivering.)</font>"
   ]
  },
  {
   "cell_type": "markdown",
   "metadata": {},
   "source": [
    "<font size=\"+1\" color=\"red\">Replace this cell with your code to save *flavors* into a tab-separated file.</font>"
   ]
  },
  {
   "cell_type": "markdown",
   "metadata": {},
   "source": [
    "## 1.3. Open this bi-partite network in Cytoscape\n"
   ]
  },
  {
   "cell_type": "markdown",
   "metadata": {},
   "source": [
    "### 1.3.1. Examine the file you generated\n",
    "\n",
    "Open the ``flavors.tsv`` file in a spreadsheet program to make sure you generated it correctly; it should have exactly 3 comma-separated columns.\n",
    "\n",
    "### 1.3.2. Import this file in Cytoscape\n",
    "\n",
    "Remember these files are imported with ``File > Import > Network from File ...``. Then, you have to select:\n",
    "\n",
    "* ingredient as a ``Source Node``\n",
    "* ingredient_category as a ``Source Node Attribute``.\n",
    "* compound as a ``Target Node`` \n",
    "\n",
    "### 1.3.3. Draw a small part of this graph\n",
    "\n",
    "Find the `watermelon` node and everything connected to it at distance 1 or 2. To do this, find \"watermelon\" and then click on the \"two-houses\" (neighbors) icon twice. Extract the selected nodes as a sub-graph by doing `File > New network > From selected nodes, all edges`.\n",
    "\n",
    "Run the network analyzer and then perform `Layout > Edge weighted spring layout` using edge betweenness.\n",
    "\n",
    "Style the network so that ingredient nodes have a color that depends on their category, using any color except black, and setting black to be the default node color so that compound nodes remain in color black. Set the label color to white.\n",
    "\n",
    "Save the image as `flavors.png`; the next cell should display it.\n",
    "\n",
    "<font size=\"-1\" color=\"gray\">(Remove this cell when delivering.)</font>"
   ]
  },
  {
   "cell_type": "code",
   "execution_count": 83,
   "metadata": {},
   "outputs": [
    {
     "data": {
      "text/html": [
       "<img src=\"flavors.png\" width=\"1200\"/>"
      ],
      "text/plain": [
       "<IPython.core.display.Image object>"
      ]
     },
     "execution_count": 83,
     "metadata": {},
     "output_type": "execute_result"
    }
   ],
   "source": [
    "# Adjust width/height if necessary\n",
    "\n",
    "Image(url=\"flavors.png\", width=1200)"
   ]
  },
  {
   "cell_type": "markdown",
   "metadata": {},
   "source": [
    "<font size=\"+1\" color=\"red\">Replace this cell by a brief commentary, in your own words, of what you see in this graph. Include your answer to at least these three questions: (1) What ingredient groupings do you observe? (2) What connects different groupings?</font>"
   ]
  },
  {
   "cell_type": "markdown",
   "metadata": {},
   "source": [
    "# 2. The ingredient-ingredient graph"
   ]
  },
  {
   "cell_type": "markdown",
   "metadata": {},
   "source": [
    "The bi-partite flavors graph is hard to visualize as it mixes ingredients and compounds. We will now try to visualize only the connections between ingredients.\n",
    "\n",
    "<font size=\"-1\" color=\"gray\">(Remove this cell when delivering.)</font>\n"
   ]
  },
  {
   "cell_type": "markdown",
   "metadata": {},
   "source": [
    "## 2.1. Create an ingredient-ingredient.csv file\n"
   ]
  },
  {
   "cell_type": "markdown",
   "metadata": {},
   "source": [
    "First, copy the list of ingredients into an array `ingredients_array`. To convert column *x* of DataFrame *A* to an array, use `np.asarray(A['x'])`.\n",
    "\n",
    "Then, create a dictionary named `ingredient_to_compounds`, in which keys are ingredients, and values are sets of compounds. To create an empty set, you can use `s = set()`. To add to a set, you can do `s.add(element)`. Your code should look like this:\n",
    "\n",
    "```python\n",
    "ingredients_array = ...\n",
    "print(\"There are %d ingredients\" % (len(ingredients_array)))\n",
    "\n",
    "ingredient_to_compounds = {}\n",
    "\n",
    "for index, row in flavors.iterrows():\n",
    "    ...\n",
    "\n",
    "```\n",
    "\n",
    "<font size=\"-1\" color=\"gray\">(Remove this cell when delivering.)</font>"
   ]
  },
  {
   "cell_type": "markdown",
   "metadata": {},
   "source": [
    "<font size=\"+1\" color=\"red\">Replace this cell with your code to create `ingredients_array` with the list of ingredients, and to create dictionary `ingredient_to_compounds` with a set of compounds for each ingredient</font></font>"
   ]
  },
  {
   "cell_type": "markdown",
   "metadata": {},
   "source": [
    "Next, we create a NetworkX graph with nodes representing ingredients and edges of weight `x` connecting two ingredients having `x` flavor compounds in common.\n",
    "\n",
    "To create an empty graph, do `ingredient_ingredient = nx.Graph()`.\n",
    "\n",
    "Now, iterate through all pairs of ingredients in `ingredients_array` and compute the compounds they have in common between them. To iterate through all pair combinations of an array X, you can use:\n",
    "\n",
    "```\n",
    "for u, v in itertools.combinations(X,2):\n",
    "    ...\n",
    "\n",
    "```\n",
    "\n",
    "The size of the intersection of two lists `l1`, `l2` can be obtained with `len(l1.intersection(l2))`. To facilitate visualization, we will keep only edges connecting two ingredients having **M or more compounds in common**. Set the value of **M** so that the resulting graph has somewhere around 150 +/- 30 nodes.\n",
    "\n",
    "To add to graph *G* an edge between nodes *u* and *v* having weight *w*, do `G.add_edge(u, v, weight=w)`.\n",
    "\n",
    "<font size=\"-1\" color=\"gray\">(Remove this cell when delivering.)</font>"
   ]
  },
  {
   "cell_type": "markdown",
   "metadata": {},
   "source": [
    "<font size=\"+1\" color=\"red\">Replace this cell with your code to create the `ingredient_ingredient` graph</font></font>"
   ]
  },
  {
   "cell_type": "code",
   "execution_count": null,
   "metadata": {},
   "outputs": [],
   "source": [
    "# Leave as-is\n",
    "print(\"The ingredient-ingredient graph has %d nodes and %d edges\" %\n",
    "      (ingredient_ingredient.number_of_nodes(), ingredient_ingredient.number_of_edges()))"
   ]
  },
  {
   "cell_type": "markdown",
   "metadata": {},
   "source": [
    "Save the resulting graph into a file. You can use [write_gml](https://networkx.org/documentation/stable/reference/readwrite/generated/networkx.readwrite.gml.write_gml.html#networkx.readwrite.gml.write_gml) to use the *GML* format.\n",
    "\n",
    "<font size=\"-1\" color=\"gray\">(Remove this cell when delivering.)</font>"
   ]
  },
  {
   "cell_type": "code",
   "execution_count": 69,
   "metadata": {},
   "outputs": [],
   "source": [
    "OUTPUT_INGR_INGR_FILENAME = 'ingredient-ingredient.gml'"
   ]
  },
  {
   "cell_type": "markdown",
   "metadata": {},
   "source": [
    "<font size=\"+1\" color=\"red\">Replace this cell with your code to save graph G to file OUTPUT_INGR_INGR_FILENAME</font>"
   ]
  },
  {
   "cell_type": "markdown",
   "metadata": {},
   "source": [
    "## 2.2. Work with this file in Cytoscape"
   ]
  },
  {
   "cell_type": "markdown",
   "metadata": {},
   "source": [
    "## 2.2.1. Inspect this file\n",
    "\n",
    "*Tip:* Open the ``ingredient-ingredient.gml`` file in a text editor first to see how it is structured.\n",
    "\n",
    "\n",
    "## 2.2.2. Import this file into Cytoscape\n",
    "\n",
    "To import this file into Cytoscape:\n",
    "\n",
    "* `File > Import > Network from file ...`\n",
    "* Open the `ingredient-ingredient.gml` file\n",
    "\n",
    "Now we need to import ingredient categories:\n",
    "\n",
    "* `File > Import > Table from file ...`\n",
    "* Open the `ingredients.tsv` file\n",
    "* Import data as \"Node Table Columns\"\n",
    "* `ingredient name`: key\n",
    "* `category`: attribute\n",
    "\n",
    "Do a `Layout > Edge weighted spring embedded` layout on the *weight* attribute.\n",
    "\n",
    "### 2.2.3. Style and add simple annotations\n",
    "\n",
    "Style lines connecting nodes so their thickness and color reflects the number of compounds in common.\n",
    "\n",
    "Color the nodes with colors representing the class of ingredients. Note that if you right-click on \"Mapping type\" when creating a discrete mapping, you can use an automatic mapping generator to start with.\n",
    "\n",
    "Add text annotations (secondary button > add > text annotation) to the first, second, and third largest connected component, with your observations (e.g., \"The second largest component is dominated by ingredients of type x\"). Place the annotations next to the components they refer to (secondary button > edit > move annotation).\n",
    "\n",
    "Save the main connected component of this graph with its legend as `ingr-ingr.png` using `File > Export > Network to image ...`.\n",
    "\n",
    "The next cell should display your graph with its legend.\n",
    "\n",
    "<font size=\"-1\" color=\"gray\">(Remove this cell when delivering.)</font>"
   ]
  },
  {
   "cell_type": "code",
   "execution_count": 97,
   "metadata": {},
   "outputs": [
    {
     "data": {
      "text/html": [
       "<img src=\"ingr-ingr.png?A\" width=\"1200\"/>"
      ],
      "text/plain": [
       "<IPython.core.display.Image object>"
      ]
     },
     "metadata": {},
     "output_type": "display_data"
    },
    {
     "data": {
      "text/html": [
       "<img src=\"ingr-ingr-legend.gif\" width=\"400\"/>"
      ],
      "text/plain": [
       "<IPython.core.display.Image object>"
      ]
     },
     "metadata": {},
     "output_type": "display_data"
    }
   ],
   "source": [
    "# Change width if necessary\n",
    "\n",
    "display(Image(url=\"ingr-ingr.png\", width=1200))\n",
    "\n",
    "display(Image(url=\"ingr-ingr-legend.gif\", width=400))"
   ]
  },
  {
   "cell_type": "markdown",
   "metadata": {},
   "source": [
    "<font size=\"+1\" color=\"red\">Replace this cell by a brief commentary, in your own words, of what you see in this graph. Describe 2-3 ingredients that have interesting connections or lack of connections. plus any other interesting observations that you can make about this graph.</font>"
   ]
  },
  {
   "cell_type": "markdown",
   "metadata": {},
   "source": [
    "# DELIVER (individually)\n",
    "\n",
    "Read the section on \"delivering your code\" in the [course evaluation guidelines](https://github.com/chatox/networks-science-course/blob/master/upf/upf-evaluation.md).\n",
    "\n",
    "Deliver a zip file containing:\n",
    "\n",
    "* This notebook\n",
    "* The ``flavors.tsv`` and ``flavors.png`` files\n",
    "* The ``ingredient-ingredient.tsv`` and ``ingr-ingr.png`` files\n",
    "\n",
    "## Extra points available\n",
    "\n",
    "For more learning and extra points, get the `recipes.csv` file. It contains one recipe per line, in this format:\n",
    "\n",
    "```\n",
    "EastAsian,roasted_sesame_seed,garlic,cayenne,seaweed,sesame_oil\n",
    "```\n",
    "\n",
    "This means there is one East Asian dish whose recipe requires the ingredients \"roasted_sesame_seed\", \"garlic\", \"cayenne\", \"seaweed\", and \"sesame_oil\".\n",
    "\n",
    "Select 5 recipes and draw using Cytoscape one bi-partite graph for each, with the ingredients and their compounds in each recipe. Include those bi-partite graphs here, plus a brief commentary about whether the ingredients used share many compounds, few compounds, or not at all, and any other observations you want to make about the selected recipes.\n",
    "\n",
    "**Note:** if you go for the extra points, add ``<font size=\"+2\" color=\"blue\">Additional results: ingredients and compounds of five recipes</font>`` at the top of your notebook.\n",
    "\n",
    "<font size=\"-1\" color=\"gray\">(Remove this cell when delivering.)</font>"
   ]
  },
  {
   "cell_type": "markdown",
   "metadata": {},
   "source": [
    "<font size=\"+2\" color=\"#003300\">I hereby declare that, except for the code provided by the course instructors, all of my code, report, and figures were produced by myself.</font>\n"
   ]
  }
 ],
 "metadata": {
  "kernelspec": {
   "display_name": "Python 3",
   "language": "python",
   "name": "python3"
  },
  "language_info": {
   "codemirror_mode": {
    "name": "ipython",
    "version": 3
   },
   "file_extension": ".py",
   "mimetype": "text/x-python",
   "name": "python",
   "nbconvert_exporter": "python",
   "pygments_lexer": "ipython3",
   "version": "3.8.10"
  }
 },
 "nbformat": 4,
 "nbformat_minor": 2
}
