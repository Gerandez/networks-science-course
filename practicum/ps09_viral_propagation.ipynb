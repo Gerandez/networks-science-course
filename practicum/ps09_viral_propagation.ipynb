{
 "cells": [
  {
   "cell_type": "markdown",
   "metadata": {},
   "source": [
    "# Practice Session 09: Viral Propagation"
   ]
  },
  {
   "cell_type": "markdown",
   "metadata": {},
   "source": [
    "In this session we will use [NetworkX](https://networkx.github.io/) for simulating propagations through a network.\n",
    "\n",
    "We will use the [SFHH Conference Dataset](http://www.sociopatterns.org/datasets/sfhh-conference-data-set/), which approximately describes face to face interactions between 403 attendees to an academic conference in 2009 that took place in Nice, France. These 403 attendees agred to wear a badge containing an RFID tag and receiver which picked up signals from other RFID tags, and which allowed to log (anonymously) timestamps corresponding to being in close proximity of each other.\n",
    "\n",
    "The dataset you will use is contained on the file `sfhh-conference-2009.csv` and for simplicity does not include the time variable that is present in the original dataset.\n",
    "\n",
    "<font size=\"-1\" color=\"gray\">(Remove this cell when delivering.)</font>"
   ]
  },
  {
   "cell_type": "markdown",
   "metadata": {},
   "source": [
    "# 1. The SFHH Conference Dataset"
   ]
  },
  {
   "cell_type": "markdown",
   "metadata": {},
   "source": [
    "Below we provide code to load and do a default drawing of the graph. You can leave as-is.\n",
    "\n",
    "<font size=\"-1\" color=\"gray\">(Remove this cell when delivering.)</font>"
   ]
  },
  {
   "cell_type": "code",
   "execution_count": null,
   "metadata": {},
   "outputs": [],
   "source": [
    "import io\n",
    "import csv\n",
    "import networkx as nx\n",
    "import matplotlib.pyplot as plt\n",
    "import numpy as np\n",
    "import random"
   ]
  },
  {
   "cell_type": "code",
   "execution_count": null,
   "metadata": {},
   "outputs": [],
   "source": [
    "INPUT_FILENAME = \"sfhh-conference-2009.csv\""
   ]
  },
  {
   "cell_type": "code",
   "execution_count": null,
   "metadata": {},
   "outputs": [],
   "source": [
    "# LEAVE AS-IS\n",
    "\n",
    "# Create a new undirected graph\n",
    "g = nx.Graph()\n",
    "\n",
    "with io.open(INPUT_FILENAME) as input_file:\n",
    "    # Create a CSV reader for a comma-delimited file with a header\n",
    "    reader = csv.DictReader(input_file, delimiter=',')\n",
    "    \n",
    "    # Iterate through records, each record is a dictionary\n",
    "    for record in reader:\n",
    "        \n",
    "        # Add one edge per record\n",
    "        g.add_edge(record['Source'], record['Target'])"
   ]
  },
  {
   "cell_type": "code",
   "execution_count": null,
   "metadata": {},
   "outputs": [],
   "source": [
    "# LEAVE AS-IS\n",
    "\n",
    "# Create an empty figure; feel free to change size to accommodate to your screen\n",
    "plt.figure(figsize=(20,10))\n",
    "\n",
    "# Draw the graph\n",
    "nx.draw_networkx(g)"
   ]
  },
  {
   "cell_type": "markdown",
   "metadata": {},
   "source": [
    "The following code, which you can leave as-is, plots the degree distribution in this graph.\n",
    "\n",
    "<font size=\"-1\" color=\"gray\">(Remove this cell when delivering.)</font>"
   ]
  },
  {
   "cell_type": "code",
   "execution_count": null,
   "metadata": {},
   "outputs": [],
   "source": [
    "# LEAVE AS-IS\n",
    "\n",
    "def plot_degree_dist(graph):\n",
    "    \n",
    "    # Obtain the sequence of degree of nodes\n",
    "    # Function graph.degree() return tuples (node,degree)\n",
    "    degrees = [degree_tuple[1] for degree_tuple in graph.degree()]\n",
    "    \n",
    "    # Draw the histogram of the degree\n",
    "    plt.hist(degrees, density=True, bins=20)\n",
    "    plt.title(\"Degree distribution\", fontdict={'fontsize': 'xx-large'})\n",
    "    plt.xlabel(\"Degree $k$\", fontdict={'fontsize': 'x-large'})\n",
    "    plt.ylabel(\"Probability $p_k$\", fontdict={'fontsize': 'x-large'})\n",
    "    plt.show()\n",
    "    \n",
    "    # Print some degree statistics\n",
    "    print(\"Degree: {:.1f} +/- {:.1f}, range [{:d}, {:d}]\".format(\n",
    "        np.mean(degrees), np.std(degrees), np.min(degrees), np.max(degrees)))\n",
    "    \n",
    "plot_degree_dist(g)"
   ]
  },
  {
   "cell_type": "markdown",
   "metadata": {},
   "source": [
    "<font size=\"+1\" color=\"red\">Replace this cell by your answer to the following question: is this a scale-free network? Why or why not?</font>"
   ]
  },
  {
   "cell_type": "markdown",
   "metadata": {},
   "source": [
    "# 2. Independent cascade model"
   ]
  },
  {
   "cell_type": "markdown",
   "metadata": {},
   "source": [
    "Next, we will simulate the independent cascade propagation model. We will assume each edge has the same probability of transmission, *0 < beta < 1*.\n",
    "\n",
    "Your algorithm should do the following:\n",
    "\n",
    "1. Initialize an `infected` dictionary with every node having value `False`\n",
    "1. Mark a starting node *u* as infected with value `True`\n",
    "1. For each neighbor *v* of this node:\n",
    "  * If the neighbor *v* is not infected:\n",
    "    * Generate a random r number in [0, 1] using [random.uniform](https://docs.python.org/3/library/random.html)\n",
    "    * If r is smaller than the probability of transmission of edge *(u,v)*:\n",
    "      * Infect node *v*\n",
    "1. Return the `infected` dictionary\n",
    "\n",
    "Your code should look like this:\n",
    "\n",
    "```python\n",
    "def infect_recursive(graph, starting_node, beta, infected):\n",
    "    # YOUR CODE HERE\n",
    "\n",
    "def simulate_independent_cascade(graph, starting_node, beta):\n",
    "    infected = dict([(node, False) for node in graph.nodes()])\n",
    "    # YOUR CODE HERE\n",
    "    return infected\n",
    "```\n",
    "\n",
    "Tip: use an auxiliary function `infect_recursive(graph, node, beta, infected)` that takes as input a *graph*, a *node* to be infected, the transmission probability *beta*, the dictionary *infected* and infects node *node* and tries to infect all the neighbors of node (`graph.neighbors(node)`)\n",
    "\n",
    "<font size=\"-1\" color=\"gray\">(Remove this cell when delivering.)</font>"
   ]
  },
  {
   "cell_type": "markdown",
   "metadata": {},
   "source": [
    "<font size=\"+1\" color=\"red\">Replace this cell with your code implementing simulate_independent_cascade.</font>"
   ]
  },
  {
   "cell_type": "markdown",
   "metadata": {},
   "source": [
    "Next, write function `simulate_multiple_independent_cascades(graph, beta, repetitions)` that takes as input a graph and a transmisibility parameter *beta*, and a number of trials *repetitions* and repeats *repetitions* times the following:\n",
    "\n",
    "1. Picks a random node in the graph, using `random.choice(list(g.nodes()))`\n",
    "1. Simulate an independent cascade starting from that node\n",
    "\n",
    "The function should return the average **fraction** of infected nodes across the *repetitions* done. This is a number between 0.0 and 1.0, where 1.0 means that all *N* nodes were infected.\n",
    "\n",
    "Tip: to get the number of `True` values in the values of a dictionary `d`, you can just use `sum(d.values())`.\n",
    "\n",
    "<font size=\"-1\" color=\"gray\">(Remove this cell when delivering.)</font>"
   ]
  },
  {
   "cell_type": "markdown",
   "metadata": {},
   "source": [
    "<font size=\"+1\" color=\"red\">Replace this cell with your code implementing simulate_multiple_independent_cascades.</font>"
   ]
  },
  {
   "cell_type": "markdown",
   "metadata": {},
   "source": [
    "Test `simulate_multiple_independent_cascades(graph, beta, repetitions)` using the following code, which should print increasingly large numbers. The last number should be a 1.0.\n",
    "\n",
    "<font size=\"-1\" color=\"gray\">(Remove this cell when delivering.)</font>"
   ]
  },
  {
   "cell_type": "code",
   "execution_count": null,
   "metadata": {},
   "outputs": [],
   "source": [
    "# LEAVE AS-IS\n",
    "\n",
    "REPETITIONS=100\n",
    "for beta in [0.01, 0.1, 0.2, 0.9, 1.0]:\n",
    "    print(\"Beta={:.2f}; Fraction of infected={:.6f} (average of {:d} runs)\".format(\n",
    "        beta,\n",
    "        simulate_multiple_independent_cascades(g, beta, REPETITIONS),\n",
    "        REPETITIONS\n",
    "    ))\n"
   ]
  },
  {
   "cell_type": "markdown",
   "metadata": {},
   "source": [
    "Create a plot that should have in the x axis the transmission probability *beta* (from 0.0 to 0.5, in increments of 0.01), and in the y axis the expected fraction of infected nodes obtained by doing 100 repetitions. Remember to label both axis.\n",
    "\n",
    "<font size=\"-1\" color=\"gray\">(Remove this cell when delivering.)</font>"
   ]
  },
  {
   "cell_type": "markdown",
   "metadata": {},
   "source": [
    "<font size=\"+1\" color=\"red\">Replace this cell with your code for plotting the expected fraction of nodes that are infected as a function of the contagion probability. Remember to label both axes</font>"
   ]
  },
  {
   "cell_type": "markdown",
   "metadata": {},
   "source": [
    "<font size=\"+1\" color=\"red\">Replace this cell with a brief commentary of what you observe on this plot. At which transmissibility *beta* do you start to notice that almost all nodes end up infected? Why does this happen?</font>"
   ]
  },
  {
   "cell_type": "markdown",
   "metadata": {},
   "source": [
    "# 3. Reduce maximum degree"
   ]
  },
  {
   "cell_type": "markdown",
   "metadata": {},
   "source": [
    "Create a function `graph_max_degree(graph, max_degree)` that returns a copy of *graph* in which no node has degree larger than *max_degree*. \n",
    "\n",
    "There are many ways of doing this, a relatively easy one is this:\n",
    "\n",
    "1. Create an empty graph\n",
    "1. Iterate through all nodes in the input graph, creating that node in the output graph\n",
    "1. Obtain the list of all the edges of the input graph with `g.edges()`\n",
    "1. Randomly shuffle that list of edges using `np.random.permutation()`\n",
    "1. Add each edge *(u,v)* to the output graph as long as the degree of the *u* and the degree of *v* is smaller than max_degree\n",
    "\n",
    "<font size=\"-1\" color=\"gray\">(Remove this cell when delivering.)</font>"
   ]
  },
  {
   "cell_type": "markdown",
   "metadata": {},
   "source": [
    "<font size=\"+1\" color=\"red\">Replace this cell with your code implementing graph_max_degree</font>"
   ]
  },
  {
   "cell_type": "markdown",
   "metadata": {},
   "source": [
    "Test your code using the following function, which you should leave as-is. Note that if you repeat multiple times the average degree and/or the standard deviation might experience small changes.\n",
    "\n",
    "<font size=\"-1\" color=\"gray\">(Remove this cell when delivering.)</font>"
   ]
  },
  {
   "cell_type": "code",
   "execution_count": null,
   "metadata": {},
   "outputs": [],
   "source": [
    "# LEAVE AS-IS\n",
    "\n",
    "# Reduce the max degree of the graph\n",
    "gmax = graph_max_degree(g, 20)\n",
    "\n",
    "# If you notice nodes with degree larger than specified,\n",
    "# it means your graph_max_degree function is deffective.\n",
    "plot_degree_dist(gmax)"
   ]
  },
  {
   "cell_type": "markdown",
   "metadata": {},
   "source": [
    "Now, let us assume beta has a constant value *BETA=0.2*, which we will use for the following experiments. That means that only 1 in 5 encounters between an infected and a susceptible person will produce an infection.\n",
    "\n",
    "Create a graph that has in the x axis the maximum degree allowed, and on the y axis the fraction of infected nodes on the graph. Perform experiments setting the maximum degree to 2, 3, 4, 5, ..., 99, 100. Remember to repeat each experiment at least *REPETITION* times (100) and plotting the average. Remember to include labels in your plot's axes.\n",
    "\n",
    "<font size=\"-1\" color=\"gray\">(Remove this cell when delivering.)</font>"
   ]
  },
  {
   "cell_type": "markdown",
   "metadata": {},
   "source": [
    "<font size=\"+1\" color=\"red\">Replace this cell with your code for creating the requested plot</font>"
   ]
  },
  {
   "cell_type": "markdown",
   "metadata": {},
   "source": [
    "<font size=\"+1\" color=\"red\">Replace this cell with a brief commentary with your observations on this plot. To what value would you set the maximum degree to ensure less than half of the people are infected? How does this compare to the previous plot when we used this value of beta but did not modify the graph?</font>"
   ]
  },
  {
   "cell_type": "markdown",
   "metadata": {},
   "source": [
    "# 4. Random vs friendship paradox immunization"
   ]
  },
  {
   "cell_type": "markdown",
   "metadata": {},
   "source": [
    "Finally, we will immunize some nodes. Immunized nodes cannot catch the infection. We will create a `immunity` dictionary in which keys are nodes and `immunity[node] = True` if and only if the *node* cannot be infected.\n",
    "\n",
    "Write function `give_immunity_random(graph, fraction)` that returns a dictionary in which keys are the nodes in *graph* and `fraction * graph.number_of_nodes()` nodes are immune. Nodes to be immunized are selected uniformly at random.\n",
    "\n",
    "<font size=\"-1\" color=\"gray\">(Remove this cell when delivering.)</font>"
   ]
  },
  {
   "cell_type": "markdown",
   "metadata": {},
   "source": [
    "<font size=\"+1\" color=\"red\">Replace this cell with your code for give_immunity_random</font>"
   ]
  },
  {
   "cell_type": "markdown",
   "metadata": {},
   "source": [
    "Test your code. Note that the fraction of immunized will be close but might not be exactly the requested fraction. It is OK if there is some small deviation (say, 1%) between what you obtain and what you request, but larger deviations are not acceptable.\n",
    "\n",
    "<font size=\"-1\" color=\"gray\">(Remove this cell when delivering.)</font>"
   ]
  },
  {
   "cell_type": "code",
   "execution_count": null,
   "metadata": {},
   "outputs": [],
   "source": [
    "# LEAVE AS-IS\n",
    "\n",
    "def test_immunize(graph, method, values):\n",
    "    for fraction in values:\n",
    "        immunity = method(g, fraction)\n",
    "        number_immunized = sum(immunity.values())\n",
    "        number_not_immunized = len(immunity) - number_immunized\n",
    "        fraction_immunized = number_immunized / (number_immunized + number_not_immunized)\n",
    "        print(\"Immunized {:.1f}% of nodes; got a dictionary with {:d} 'True' and {:d} 'False' values ({:.1f}% 'True')\".format(\n",
    "            fraction*100,\n",
    "            number_immunized,\n",
    "            number_not_immunized,\n",
    "            fraction_immunized*100\n",
    "        ))\n",
    "\n",
    "test_immunize(g, give_immunity_random, [0.1, 0.3, 0.7])"
   ]
  },
  {
   "cell_type": "markdown",
   "metadata": {},
   "source": [
    "Write function `give_immunity_random_friend(graph, fraction)` that returns a dictionary in which keys are the nodes in *graph* and `fraction * graph.number_of_nodes()` nodes are immune. Nodes to be immunized are the random neighbor of a randomly selected node.\n",
    "\n",
    "<font size=\"-1\" color=\"gray\">(Remove this cell when delivering.)</font>"
   ]
  },
  {
   "cell_type": "markdown",
   "metadata": {},
   "source": [
    "<font size=\"+1\" color=\"red\">Replace this cell with your code for give_immunity_random_friend</font>"
   ]
  },
  {
   "cell_type": "markdown",
   "metadata": {},
   "source": [
    "Test your code using the same function as above. Remember that the fraction of immunized nodes should be within, say, 1% of the requested. If it is smaller, it means your code probably might be re-immunizing over and over the same nodes.\n",
    "\n",
    "<font size=\"-1\" color=\"gray\">(Remove this cell when delivering.)</font>"
   ]
  },
  {
   "cell_type": "code",
   "execution_count": null,
   "metadata": {},
   "outputs": [],
   "source": [
    "# LEAVE AS-IS\n",
    "\n",
    "test_immunize(g, give_immunity_random_friend, [0.1, 0.3, 0.7])"
   ]
  },
  {
   "cell_type": "markdown",
   "metadata": {},
   "source": [
    "Write functions `simulate_independent_cascade_immune` and `infect_recursive_immune` as variations of your previous code that receive as extra parameter this dictionary.\n",
    "\n",
    "<font size=\"-1\" color=\"gray\">(Remove this cell when delivering.)</font>"
   ]
  },
  {
   "cell_type": "markdown",
   "metadata": {},
   "source": [
    "<font size=\"+1\" color=\"red\">Replace this cell with your code for simulate_independent_cascade_immune, and infect_recursive_immune</font>"
   ]
  },
  {
   "cell_type": "markdown",
   "metadata": {},
   "source": [
    "Perform simulations in which you immunize a fraction of nodes *0.00, 0.05, 0.10, ..., 1.00*, repeating at least *REPETITIONS = 500* times each simulation, and plot a graph in which in the x axis is the fraction of immunized nodes and in the y axis the fraction of infected nodes. Assume a constant *BETA=0.03*.\n",
    "\n",
    "<font size=\"-1\" color=\"gray\">(Remove this cell when delivering.)</font>"
   ]
  },
  {
   "cell_type": "markdown",
   "metadata": {},
   "source": [
    "<font size=\"+1\" color=\"red\">Replace this cell with your code for performing the requested simulations and displaying the requested plot. Remember to add labels to the x-axis and y-axis of your plot, to include both immunization strategies in the same plot, and to include a **legend** for your plot.</font>"
   ]
  },
  {
   "cell_type": "markdown",
   "metadata": {},
   "source": [
    "<font size=\"+1\" color=\"red\">Replace this cell with a brief commentary on the result of these simulations. Do you see some differences in the performance of the methods? Describe the similarities and differences. Try to provide some explanation of what you observe.</font>"
   ]
  },
  {
   "cell_type": "markdown",
   "metadata": {},
   "source": [
    "# 5. Limitations"
   ]
  },
  {
   "cell_type": "markdown",
   "metadata": {},
   "source": [
    "<font size=\"+1\" color=\"red\">Replace this cell with a brief commentary on what are the *limitations* of these simulations. Which are some of the many reasons why **one cannot obtain general conclusions about how to deal with a pandemic from this exercise**?</font>"
   ]
  },
  {
   "cell_type": "markdown",
   "metadata": {},
   "source": [
    "# Deliver (individually)\n",
    "\n",
    "A .zip file containing:\n",
    "\n",
    "* This notebook.\n",
    "\n",
    "\n",
    "## Extra points available\n",
    "\n",
    "For extra points and extra learning (+2, so your maximum grade can be a 12 in this assignment), include one more immunization strategy: \"targeted immunization\", in which the people who receive the vaccine are the people with the largest degree or the people with the largest betweenness. Plot one graph of percentage immunized vs fraction infected comparing the three strategies: random immunization, random friend immunization, and targeted immunization. Add a brief commentary with your conclusions.\n",
    "\n",
    "**Note:** if you go for the extra points, add ``<font size=\"+2\" color=\"blue\">Additional results: targeted immunization</font>`` at the top of your notebook.\n",
    "\n",
    "<font size=\"-1\" color=\"gray\">(Remove this cell when delivering.)</font>"
   ]
  },
  {
   "cell_type": "markdown",
   "metadata": {},
   "source": [
    "<font size=\"+2\" color=\"#003300\">I hereby declare that, except for the code provided by the course instructors, all of my code, report, and figures were produced by myself.</font>"
   ]
  }
 ],
 "metadata": {
  "kernelspec": {
   "display_name": "Python 3",
   "language": "python",
   "name": "python3"
  },
  "language_info": {
   "codemirror_mode": {
    "name": "ipython",
    "version": 3
   },
   "file_extension": ".py",
   "mimetype": "text/x-python",
   "name": "python",
   "nbconvert_exporter": "python",
   "pygments_lexer": "ipython3",
   "version": "3.8.10"
  }
 },
 "nbformat": 4,
 "nbformat_minor": 2
}
