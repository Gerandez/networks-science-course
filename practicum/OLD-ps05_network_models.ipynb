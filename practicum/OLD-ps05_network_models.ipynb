{
 "cells": [
  {
   "cell_type": "markdown",
   "metadata": {},
   "source": [
    "# Practice Session 05: Network models\n"
   ]
  },
  {
   "cell_type": "markdown",
   "metadata": {},
   "source": [
    "In this session we will learn to use [NetworkX](https://networkx.github.io/), a Python package, and we will write code to create random graphs and preferential attachment graphs.\n",
    "\n",
    "**Note:** The graph generators we ask you to delive for this practice are already implemented in the NetworkX library and in other places online. *Do not copy those implementations:* they reproduce the same kinds of graph but follow a design that is different from what we describe here.\n",
    "\n",
    "<font size=\"-1\" color=\"gray\">(Remove this cell when delivering.)</font>"
   ]
  },
  {
   "cell_type": "markdown",
   "metadata": {},
   "source": [
    "Author: <font color=\"blue\">Your name here</font>\n",
    "\n",
    "E-mail: <font color=\"blue\">Your e-mail here</font>\n",
    "\n",
    "Date: <font color=\"blue\">The current date here</font>"
   ]
  },
  {
   "cell_type": "markdown",
   "metadata": {},
   "source": [
    "# 0. Code snippets you may need\n",
    "\n",
    "## 0.1. Coin toss (Bernoulli trial)\n",
    "\n",
    "The following function returns `True` with probability *p*, and `False` with probability *1-p*:\n",
    "\n",
    "```python\n",
    "def flip_coin(p):\n",
    "    if np.random.random() < p:\n",
    "        return True\n",
    "    else:\n",
    "        return False\n",
    "```\n",
    "\n",
    "## 0.2. Creating a small graph\n",
    "\n",
    "Small graphs can be easily created programmatically in Python with NetworkX.\n",
    "\n",
    "* To create a graph, you use either `networkx.Graph` or `networkx.DiGraph`, which return an undirected an directed graph respectively.\n",
    "* To add a node to a graph *g*, you use `g.add_node(u)`, where *u* is the name of the node.\n",
    "* To add an edge to a graph *g*, you use `g.add_edge(u, v)`, where *u* is the name of the source of the edge, and *v* the name of the destination of the edge.\n",
    "\n",
    "Example:\n",
    "\n",
    "```python\n",
    "g = nx.Graph()\n",
    "g.add_node(0)\n",
    "g.add_node(1)\n",
    "g.add_edge(0, 1)\n",
    "```\n",
    "\n",
    "## 0.3. Drawing a graph\n",
    "\n",
    "To draw a graph, you can use:\n",
    "\n",
    "```python\n",
    "nx.draw_networkx(g)\n",
    "```\n",
    "\n",
    "You can have more control over the visualization of the graph, such as setting the figure size, removing the axis, using a particular layout algorithm, or changing the node size or color:\n",
    "\n",
    "```python\n",
    "plt.figure(figsize=(3,3))\n",
    "plt.axis('off')\n",
    "pos=nx.spring_layout(g)\n",
    "nx.draw_networkx(g, pos, with_labels=True, node_size=500, node_color='yellow')\n",
    "```\n",
    "\n",
    "Tip: In the graph drawings of ER and BA graphs on this report you can use options `with_labels=False, node_size=10` (you can play with different values for `node_size`)\n",
    "\n",
    "<font size=\"-1\" color=\"gray\">(Remove this cell when delivering.)</font>"
   ]
  },
  {
   "cell_type": "markdown",
   "metadata": {},
   "source": [
    "# 1. Random (ER) graph generator"
   ]
  },
  {
   "cell_type": "markdown",
   "metadata": {},
   "source": [
    "Write function `generate_random_graph(N, p)`, that:\n",
    "\n",
    "1. Creates an empty graph\n",
    "1. Adds N nodes to this graph, numbered from *0* to *N-1*\n",
    "1. For each pair *(u,v)* of nodes:\n",
    "   1. With probability *p*, adds an edge between *u* and *v*\n",
    "1. Returns the graph\n",
    "\n",
    "Your function should be called with `g = generate_random_graph(N, p)`. Use this function to generate and visualize a few graphs (do some tests with 100 nodes or so and *p=0.005*, *p=0.01*, *p=0.02*, etc.)\n",
    "\n",
    "<font size=\"-1\" color=\"gray\">(Remove this cell when delivering.)</font>"
   ]
  },
  {
   "cell_type": "code",
   "execution_count": 9,
   "metadata": {},
   "outputs": [],
   "source": [
    "import networkx as nx\n",
    "import matplotlib.pyplot as plt\n",
    "import numpy as np\n",
    "from collections import OrderedDict"
   ]
  },
  {
   "cell_type": "markdown",
   "metadata": {},
   "source": [
    "<font size=\"+1\" color=\"red\">Replace this cell with your code for generate_random_graph, include comments to explain what you are doing at each step.</font>"
   ]
  },
  {
   "cell_type": "markdown",
   "metadata": {},
   "source": [
    "Create another function `print_er_statistics(g,p)` that given an ER graph and a probability *p* prints its actual average degree *&lt;k&gt;* and its expected average degree *p(N-1)*. The degree of node *u* in graph *g* is `g.degree(u)`. The number of nodes of the graph *g* is `len(g.nodes())`.\n",
    "\n",
    "<font size=\"-1\" color=\"gray\">(Remove this cell when delivering.)</font>"
   ]
  },
  {
   "cell_type": "markdown",
   "metadata": {},
   "source": [
    "<font size=\"+1\" color=\"red\">Replace this cell with your code for print_er_statistics</font>"
   ]
  },
  {
   "cell_type": "markdown",
   "metadata": {},
   "source": [
    "You can use the following function (as-is, or modified) to plot the degree distribution in a graph.\n",
    "\n",
    "<font size=\"-1\" color=\"gray\">(Remove this cell when delivering.)</font>"
   ]
  },
  {
   "cell_type": "code",
   "execution_count": 12,
   "metadata": {},
   "outputs": [],
   "source": [
    "def plot_degree_distribution(g):\n",
    "    degree_dict = dict(g.degree())\n",
    "    degree_ordered = OrderedDict(sorted(degree_dict.items(), key=lambda x: x[1], reverse=True))\n",
    "    degree_sequence = list(degree_ordered.values())\n",
    "    prob, bin_edges = np.histogram(degree_sequence, bins=range(1,np.max(degree_sequence)+2), density=True)\n",
    "    plt.loglog(bin_edges[:-1], prob, '.', marker='x')\n",
    "    plt.title(\"Probability density function\")\n",
    "    plt.xlabel(\"degree\")\n",
    "    plt.ylabel(\"probability\")\n",
    "    plt.show()"
   ]
  },
  {
   "cell_type": "markdown",
   "metadata": {},
   "source": [
    "## Generated ER graphs"
   ]
  },
  {
   "cell_type": "markdown",
   "metadata": {},
   "source": [
    "<font size=\"+1\" color=\"red\">Replace this cell with five graphs with *N* between 500 and 1000, and different probabilities *p*. Start with a small probability *p* that yields a sparse graph, and increase it gradually. For each graph, include its drawing, a drawing of its degree distribution using plot_degree_distribution, its average degree, and its expected average degree. Remember the average degree and expected degree should be in a markdown cell.</font>"
   ]
  },
  {
   "cell_type": "markdown",
   "metadata": {},
   "source": [
    "<font size=\"+1\" color=\"red\">Replace this cell with a brief commentary on what you see in these graphs.</font>"
   ]
  },
  {
   "cell_type": "markdown",
   "metadata": {},
   "source": [
    "# 2. Preferential attachment (BA) generator"
   ]
  },
  {
   "cell_type": "markdown",
   "metadata": {},
   "source": [
    "Write code for creating a BA graph.\n",
    "\n",
    "Start by creating an auxiliary function that selects *m* target nodes in a graph *g*, with probabilities proportional to the degrees of the nodes. The function `numpy.random.choice` is used to sample without replacement *m* elements from an array of nodes.\n",
    "\n",
    "\n",
    "<font size=\"-1\" color=\"gray\">(Remove this cell when delivering.)</font>"
   ]
  },
  {
   "cell_type": "markdown",
   "metadata": {},
   "source": [
    "<font size=\"+1\" color=\"red\">Replace this cell with your implementation of select_targets, following the function skeleton below.</font>\n",
    "\n",
    "```python\n",
    "def select_targets(g, m):\n",
    "\n",
    "    # Check if feasible\n",
    "    if len(g.nodes()) < m:\n",
    "        raise ValueError('Graph has less than m nodes')\n",
    "\n",
    "    # Compute sum of degree\n",
    "    sum_degree = 0\n",
    "\n",
    "    # YOUR CODE HERE: COMPUTE SUM OF DEGREE OF NODES\n",
    "\n",
    "    if sum_degree == 0:\n",
    "        raise ValueError('Graph as no edges')\n",
    "\n",
    "    # Compute probabilities\n",
    "    probabilities = []\n",
    "    for u in g.nodes():\n",
    "        # YOUR CODE HERE: COMPUTE PROBABILITY OF SELECTING NODE u\n",
    "        # THEN APPEND IT TO probabilities USING probabilities.append(...)\n",
    "\n",
    "    # Sample with replacement\n",
    "    selected = np.random.choice(g.nodes(), size=m, replace=False, p=probabilities)\n",
    "\n",
    "    return selected\n",
    "```"
   ]
  },
  {
   "cell_type": "markdown",
   "metadata": {},
   "source": [
    "Now, create a function `generate_preferential_attachment_graph(N, m0, m)` that:\n",
    "\n",
    "1. Creates an empty graph\n",
    "1. Adds nodes numbered from *0* to *m<sub>0</sub> - 1* to the graph\n",
    "1. Links node *0* to nodes *1, 2, 3, ..., m<sub>0</sub> - 1*\n",
    "1. For every node *u* numbered from *m<sub>0</sub>* to *N - 1*\n",
    "   1. Select *m* targets for this node using `select_targets`\n",
    "   1. Add node *u* (remember to select targets **before** adding the node *u*)\n",
    "   1. Lnk each node *u* to each of the *m* targets\n",
    "1. Returns the graph\n",
    "\n",
    "<font size=\"-1\" color=\"gray\">(Remove this cell when delivering.)</font>"
   ]
  },
  {
   "cell_type": "markdown",
   "metadata": {},
   "source": [
    "<font size=\"+1\" color=\"red\">Replace this cell with your implementation of generate_preferential_attachment_graph, include comments to explain what you are doing at each step.</font>\n",
    "\n",
    "<font size=\"-1\" color=\"gray\">To test your code, you can do small experiments with, e.g., *N=100, m<sub>0</sub>=5, m=5* or *N=500, m<sub>0</sub>=2, m=1*, but do not include these small experimens with your deliverable.</font>\n"
   ]
  },
  {
   "cell_type": "markdown",
   "metadata": {},
   "source": [
    "## Generated BA graphs"
   ]
  },
  {
   "cell_type": "markdown",
   "metadata": {},
   "source": [
    "<font size=\"+1\" color=\"red\">Replace this cell with two preferential attachment (BA) graphs with *N=2500, m<sub>0</sub>=5, m=1* and *N=2500, m<sub>0</sub>=2, m=2*. For each graph, include their drawing and their degree distribution, plus a brief commentary (a few lines, up to one paragraph).</font>"
   ]
  },
  {
   "cell_type": "markdown",
   "metadata": {},
   "source": [
    "# DELIVER (individually)\n",
    "\n",
    "Remember to read the section on \"delivering your code\" in the [course evaluation guidelines](https://github.com/chatox/networks-science-course/blob/master/upf/upf-evaluation.md).\n",
    "\n",
    "Deliver a zip file containing:\n",
    "\n",
    "* This notebook\n",
    "\n",
    "## Extra points available\n",
    "\n",
    "For more learning and extra points, implement network creation using the copy model, and include a couple of examples of the generated graphs with their degree distribution and a brief commentary.\n",
    "\n",
    "**Note:** if you go for the extra points, add ``<font size=\"+2\" color=\"blue\">Additional results: copy model</font>`` at the top of your notebook.\n",
    "\n",
    "<font size=\"-1\" color=\"gray\">(Remove this cell when delivering.)</font>"
   ]
  },
  {
   "cell_type": "markdown",
   "metadata": {},
   "source": [
    "<font size=\"+2\" color=\"#003300\">I hereby declare that, except for the code provided by the course instructors, all of my code, report, and figures were produced by myself.</font>"
   ]
  }
 ],
 "metadata": {
  "kernelspec": {
   "display_name": "Python 3",
   "language": "python",
   "name": "python3"
  },
  "language_info": {
   "codemirror_mode": {
    "name": "ipython",
    "version": 3
   },
   "file_extension": ".py",
   "mimetype": "text/x-python",
   "name": "python",
   "nbconvert_exporter": "python",
   "pygments_lexer": "ipython3",
   "version": "3.6.9"
  }
 },
 "nbformat": 4,
 "nbformat_minor": 2
}
